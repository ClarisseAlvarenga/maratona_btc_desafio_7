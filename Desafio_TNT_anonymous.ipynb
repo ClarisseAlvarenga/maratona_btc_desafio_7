{
  "nbformat": 4,
  "nbformat_minor": 0,
  "metadata": {
    "kernelspec": {
      "display_name": "Python 3.6",
      "language": "python",
      "name": "python3"
    },
    "language_info": {
      "codemirror_mode": {
        "name": "ipython",
        "version": 3
      },
      "file_extension": ".py",
      "mimetype": "text/x-python",
      "name": "python",
      "nbconvert_exporter": "python",
      "pygments_lexer": "ipython3",
      "version": "3.6.9"
    },
    "colab": {
      "name": "Desafio_TNT_anonymous.ipynb",
      "provenance": [],
      "collapsed_sections": []
    },
    "widgets": {
      "application/vnd.jupyter.widget-state+json": {
        "370e07ab6e60405385761ef8b05de62e": {
          "model_module": "@jupyter-widgets/controls",
          "model_name": "IntProgressModel",
          "state": {
            "_view_name": "ProgressView",
            "style": "IPY_MODEL_c33efdaf027145e8825fba2e0d020798",
            "_dom_classes": [],
            "description": "Processing: ",
            "_model_name": "IntProgressModel",
            "bar_style": "",
            "max": 13,
            "_view_module": "@jupyter-widgets/controls",
            "_model_module_version": "1.5.0",
            "value": 3,
            "_view_count": null,
            "_view_module_version": "1.5.0",
            "orientation": "horizontal",
            "min": 0,
            "description_tooltip": null,
            "_model_module": "@jupyter-widgets/controls",
            "layout": "IPY_MODEL_92ff2c870b3541e19690ff5fc5ed8f1c"
          }
        },
        "c33efdaf027145e8825fba2e0d020798": {
          "model_module": "@jupyter-widgets/controls",
          "model_name": "ProgressStyleModel",
          "state": {
            "_view_name": "StyleView",
            "_model_name": "ProgressStyleModel",
            "description_width": "",
            "_view_module": "@jupyter-widgets/base",
            "_model_module_version": "1.5.0",
            "_view_count": null,
            "_view_module_version": "1.2.0",
            "bar_color": null,
            "_model_module": "@jupyter-widgets/controls"
          }
        },
        "92ff2c870b3541e19690ff5fc5ed8f1c": {
          "model_module": "@jupyter-widgets/base",
          "model_name": "LayoutModel",
          "state": {
            "_view_name": "LayoutView",
            "grid_template_rows": null,
            "right": null,
            "justify_content": null,
            "_view_module": "@jupyter-widgets/base",
            "overflow": null,
            "_model_module_version": "1.2.0",
            "_view_count": null,
            "flex_flow": null,
            "width": null,
            "min_width": null,
            "border": null,
            "align_items": null,
            "bottom": null,
            "_model_module": "@jupyter-widgets/base",
            "top": null,
            "grid_column": null,
            "overflow_y": null,
            "overflow_x": null,
            "grid_auto_flow": null,
            "grid_area": null,
            "grid_template_columns": null,
            "flex": null,
            "_model_name": "LayoutModel",
            "justify_items": null,
            "grid_row": null,
            "max_height": null,
            "align_content": null,
            "visibility": null,
            "align_self": null,
            "height": null,
            "min_height": null,
            "padding": null,
            "grid_auto_rows": null,
            "grid_gap": null,
            "max_width": null,
            "order": null,
            "_view_module_version": "1.2.0",
            "grid_template_areas": null,
            "object_position": null,
            "object_fit": null,
            "grid_auto_columns": null,
            "margin": null,
            "display": null,
            "left": null
          }
        },
        "da250e9fa9d044ea9d5d69d5dc8115aa": {
          "model_module": "@jupyter-widgets/controls",
          "model_name": "TextModel",
          "state": {
            "_view_name": "TextView",
            "style": "IPY_MODEL_6cd48b3129c24b3db5fdf38ba4209ac7",
            "_dom_classes": [],
            "description": "",
            "_model_name": "TextModel",
            "placeholder": "​",
            "_view_module": "@jupyter-widgets/controls",
            "_model_module_version": "1.5.0",
            "value": "Following data types have been inferred automatically, if they are correct press enter to continue or type 'quit' otherwise.",
            "_view_count": null,
            "disabled": false,
            "_view_module_version": "1.5.0",
            "continuous_update": true,
            "description_tooltip": null,
            "_model_module": "@jupyter-widgets/controls",
            "layout": "IPY_MODEL_0e640a40378940e0a04b3569702ab377"
          }
        },
        "6cd48b3129c24b3db5fdf38ba4209ac7": {
          "model_module": "@jupyter-widgets/controls",
          "model_name": "DescriptionStyleModel",
          "state": {
            "_view_name": "StyleView",
            "_model_name": "DescriptionStyleModel",
            "description_width": "",
            "_view_module": "@jupyter-widgets/base",
            "_model_module_version": "1.5.0",
            "_view_count": null,
            "_view_module_version": "1.2.0",
            "_model_module": "@jupyter-widgets/controls"
          }
        },
        "0e640a40378940e0a04b3569702ab377": {
          "model_module": "@jupyter-widgets/base",
          "model_name": "LayoutModel",
          "state": {
            "_view_name": "LayoutView",
            "grid_template_rows": null,
            "right": null,
            "justify_content": null,
            "_view_module": "@jupyter-widgets/base",
            "overflow": null,
            "_model_module_version": "1.2.0",
            "_view_count": null,
            "flex_flow": null,
            "width": "100%",
            "min_width": null,
            "border": null,
            "align_items": null,
            "bottom": null,
            "_model_module": "@jupyter-widgets/base",
            "top": null,
            "grid_column": null,
            "overflow_y": null,
            "overflow_x": null,
            "grid_auto_flow": null,
            "grid_area": null,
            "grid_template_columns": null,
            "flex": null,
            "_model_name": "LayoutModel",
            "justify_items": null,
            "grid_row": null,
            "max_height": null,
            "align_content": null,
            "visibility": null,
            "align_self": null,
            "height": null,
            "min_height": null,
            "padding": null,
            "grid_auto_rows": null,
            "grid_gap": null,
            "max_width": null,
            "order": null,
            "_view_module_version": "1.2.0",
            "grid_template_areas": null,
            "object_position": null,
            "object_fit": null,
            "grid_auto_columns": null,
            "margin": null,
            "display": null,
            "left": null
          }
        },
        "c33776be61df446bb9d9f9dba8a4ff27": {
          "model_module": "@jupyter-widgets/controls",
          "model_name": "IntProgressModel",
          "state": {
            "_view_name": "ProgressView",
            "style": "IPY_MODEL_c21b4d2239254bb0b434eb55f0bf7274",
            "_dom_classes": [],
            "description": "Processing: ",
            "_model_name": "IntProgressModel",
            "bar_style": "",
            "max": 86,
            "_view_module": "@jupyter-widgets/controls",
            "_model_module_version": "1.5.0",
            "value": 79,
            "_view_count": null,
            "_view_module_version": "1.5.0",
            "orientation": "horizontal",
            "min": 0,
            "description_tooltip": null,
            "_model_module": "@jupyter-widgets/controls",
            "layout": "IPY_MODEL_61eb183e2b1a4fbbb810c5b6da096158"
          }
        },
        "c21b4d2239254bb0b434eb55f0bf7274": {
          "model_module": "@jupyter-widgets/controls",
          "model_name": "ProgressStyleModel",
          "state": {
            "_view_name": "StyleView",
            "_model_name": "ProgressStyleModel",
            "description_width": "",
            "_view_module": "@jupyter-widgets/base",
            "_model_module_version": "1.5.0",
            "_view_count": null,
            "_view_module_version": "1.2.0",
            "bar_color": null,
            "_model_module": "@jupyter-widgets/controls"
          }
        },
        "61eb183e2b1a4fbbb810c5b6da096158": {
          "model_module": "@jupyter-widgets/base",
          "model_name": "LayoutModel",
          "state": {
            "_view_name": "LayoutView",
            "grid_template_rows": null,
            "right": null,
            "justify_content": null,
            "_view_module": "@jupyter-widgets/base",
            "overflow": null,
            "_model_module_version": "1.2.0",
            "_view_count": null,
            "flex_flow": null,
            "width": null,
            "min_width": null,
            "border": null,
            "align_items": null,
            "bottom": null,
            "_model_module": "@jupyter-widgets/base",
            "top": null,
            "grid_column": null,
            "overflow_y": null,
            "overflow_x": null,
            "grid_auto_flow": null,
            "grid_area": null,
            "grid_template_columns": null,
            "flex": null,
            "_model_name": "LayoutModel",
            "justify_items": null,
            "grid_row": null,
            "max_height": null,
            "align_content": null,
            "visibility": null,
            "align_self": null,
            "height": null,
            "min_height": null,
            "padding": null,
            "grid_auto_rows": null,
            "grid_gap": null,
            "max_width": null,
            "order": null,
            "_view_module_version": "1.2.0",
            "grid_template_areas": null,
            "object_position": null,
            "object_fit": null,
            "grid_auto_columns": null,
            "margin": null,
            "display": null,
            "left": null
          }
        }
      }
    }
  },
  "cells": [
    {
      "cell_type": "code",
      "metadata": {
        "id": "GJL7zlBD2JvL",
        "colab_type": "code",
        "colab": {}
      },
      "source": [
        "# instalação das libs\n",
        "!pip install cloudant\n",
        "!pip install sweetviz\n",
        "!pip install pycaret\n",
        "!pip install tpot"
      ],
      "execution_count": null,
      "outputs": []
    },
    {
      "cell_type": "code",
      "metadata": {
        "id": "z06nRgesXr8R",
        "colab_type": "code",
        "colab": {}
      },
      "source": [
        "#importar o cloudant e o pandas\n",
        "from cloudant import Cloudant #para leitura do DB criado na IBM\n",
        "import pandas as pd #para manipulação de dados"
      ],
      "execution_count": null,
      "outputs": []
    },
    {
      "cell_type": "code",
      "metadata": {
        "id": "Vrp4woT_YhZ_",
        "colab_type": "code",
        "colab": {}
      },
      "source": [
        "#username, password e account do CLOUDANT\n",
        "u, p, a = \"<USERNAME>\", \"<PASSWORD>\", \"<USERNAME>\"\n",
        "#cria o cliente com um objeto Cloudant\n",
        "client = Cloudant(cloudant_user=u,auth_token=p, account=a, connect=True, auto_renew=True)"
      ],
      "execution_count": null,
      "outputs": []
    },
    {
      "cell_type": "code",
      "metadata": {
        "id": "uZoofhGdZkzX",
        "colab_type": "code",
        "colab": {}
      },
      "source": [
        "#conexão com o banco de dados\n",
        "db = client['<NOMEDOBANCO-IBM>']\n",
        "response = db.all_docs(limit=20000, include_docs=True)\n",
        "docs = [] \n",
        "for r in response['rows']: \n",
        "  docs.append(r['doc']) \n",
        "  type(docs)\n"
      ],
      "execution_count": null,
      "outputs": []
    },
    {
      "cell_type": "code",
      "metadata": {
        "id": "_UCsZqeGZk3E",
        "colab_type": "code",
        "colab": {}
      },
      "source": [
        "#criando o Dataframe\n",
        "df = pd.DataFrame(data=docs) \n",
        "#alterando as colunas latitude e longitude para float\n",
        "df['LAT'] = df['LAT'].astype(float) \n",
        "df['LONG']= df['LONG'].astype(float) \n"
      ],
      "execution_count": null,
      "outputs": []
    },
    {
      "cell_type": "code",
      "metadata": {
        "id": "0ZocIVmSdYc-",
        "colab_type": "code",
        "colab": {}
      },
      "source": [
        "#criando uma lista com as features que eu quero transformar para int64\n",
        "colunas_int = ['Movimentação','Original_473', 'Original_269', 'Zero', 'Maçã-Verde', 'Tangerina','Citrus', 'Açaí-Guaraná', 'Pêssego', 'row']"
      ],
      "execution_count": null,
      "outputs": []
    },
    {
      "cell_type": "code",
      "metadata": {
        "id": "M6wq5ovycoR5",
        "colab_type": "code",
        "colab": {}
      },
      "source": [
        "#convertendo as colunas para int\n",
        "df[colunas_int] = df[colunas_int].astype(int)"
      ],
      "execution_count": null,
      "outputs": []
    },
    {
      "cell_type": "code",
      "metadata": {
        "id": "3wLTW_zngwJS",
        "colab_type": "code",
        "colab": {
          "base_uri": "https://localhost:8080/",
          "height": 428
        },
        "outputId": "432c0e74-7efd-4f65-dec5-d4cb3a825609"
      },
      "source": [
        "#capturando informações do DB\n",
        "df.info()"
      ],
      "execution_count": null,
      "outputs": [
        {
          "output_type": "stream",
          "text": [
            "<class 'pandas.core.frame.DataFrame'>\n",
            "RangeIndex: 4542 entries, 0 to 4541\n",
            "Data columns (total 17 columns):\n",
            " #   Column        Non-Null Count  Dtype  \n",
            "---  ------        --------------  -----  \n",
            " 0   _id           4542 non-null   object \n",
            " 1   _rev          4542 non-null   object \n",
            " 2   Tempo         4542 non-null   object \n",
            " 3   Estação       4542 non-null   object \n",
            " 4   LAT           4542 non-null   float64\n",
            " 5   LONG          4542 non-null   float64\n",
            " 6   Movimentação  4542 non-null   int64  \n",
            " 7   Original_473  4542 non-null   int64  \n",
            " 8   Original_269  4542 non-null   int64  \n",
            " 9   Zero          4542 non-null   int64  \n",
            " 10  Maçã-Verde    4542 non-null   int64  \n",
            " 11  Tangerina     4542 non-null   int64  \n",
            " 12  Citrus        4542 non-null   int64  \n",
            " 13  Açaí-Guaraná  4542 non-null   int64  \n",
            " 14  Pêssego       4542 non-null   int64  \n",
            " 15  TARGET        4542 non-null   object \n",
            " 16  row           4542 non-null   int64  \n",
            "dtypes: float64(2), int64(10), object(5)\n",
            "memory usage: 603.4+ KB\n"
          ],
          "name": "stdout"
        }
      ]
    },
    {
      "cell_type": "code",
      "metadata": {
        "id": "TDxb2cC2Zk6u",
        "colab_type": "code",
        "colab": {
          "base_uri": "https://localhost:8080/",
          "height": 326
        },
        "outputId": "c174e6e2-bd47-4137-fb38-3f716fec0cb4"
      },
      "source": [
        "#visualizando as primeiras cinco observações do dataset\n",
        "df.head()"
      ],
      "execution_count": null,
      "outputs": [
        {
          "output_type": "execute_result",
          "data": {
            "text/html": [
              "<div>\n",
              "<style scoped>\n",
              "    .dataframe tbody tr th:only-of-type {\n",
              "        vertical-align: middle;\n",
              "    }\n",
              "\n",
              "    .dataframe tbody tr th {\n",
              "        vertical-align: top;\n",
              "    }\n",
              "\n",
              "    .dataframe thead th {\n",
              "        text-align: right;\n",
              "    }\n",
              "</style>\n",
              "<table border=\"1\" class=\"dataframe\">\n",
              "  <thead>\n",
              "    <tr style=\"text-align: right;\">\n",
              "      <th></th>\n",
              "      <th>_id</th>\n",
              "      <th>_rev</th>\n",
              "      <th>Tempo</th>\n",
              "      <th>Estação</th>\n",
              "      <th>LAT</th>\n",
              "      <th>LONG</th>\n",
              "      <th>Movimentação</th>\n",
              "      <th>Original_473</th>\n",
              "      <th>Original_269</th>\n",
              "      <th>Zero</th>\n",
              "      <th>Maçã-Verde</th>\n",
              "      <th>Tangerina</th>\n",
              "      <th>Citrus</th>\n",
              "      <th>Açaí-Guaraná</th>\n",
              "      <th>Pêssego</th>\n",
              "      <th>TARGET</th>\n",
              "      <th>row</th>\n",
              "    </tr>\n",
              "  </thead>\n",
              "  <tbody>\n",
              "    <tr>\n",
              "      <th>0</th>\n",
              "      <td>01ad2da675f70d124acfe65acd4b3df8</td>\n",
              "      <td>1-52e52f75f247490db40b85143f2c5064</td>\n",
              "      <td>2018-9-25</td>\n",
              "      <td>Brooklin</td>\n",
              "      <td>-23.6263</td>\n",
              "      <td>-46.6878</td>\n",
              "      <td>26322</td>\n",
              "      <td>45</td>\n",
              "      <td>58</td>\n",
              "      <td>16</td>\n",
              "      <td>38</td>\n",
              "      <td>35</td>\n",
              "      <td>37</td>\n",
              "      <td>3</td>\n",
              "      <td>24</td>\n",
              "      <td>REABASTECER</td>\n",
              "      <td>14665</td>\n",
              "    </tr>\n",
              "    <tr>\n",
              "      <th>1</th>\n",
              "      <td>01ad2da675f70d124acfe65acd4b5535</td>\n",
              "      <td>1-79d666608e50f723dae475bfdffa51f7</td>\n",
              "      <td>2018-9-29</td>\n",
              "      <td>Brooklin</td>\n",
              "      <td>-23.6263</td>\n",
              "      <td>-46.6878</td>\n",
              "      <td>26417</td>\n",
              "      <td>86</td>\n",
              "      <td>37</td>\n",
              "      <td>60</td>\n",
              "      <td>25</td>\n",
              "      <td>20</td>\n",
              "      <td>22</td>\n",
              "      <td>34</td>\n",
              "      <td>6</td>\n",
              "      <td>REABASTECER</td>\n",
              "      <td>14669</td>\n",
              "    </tr>\n",
              "    <tr>\n",
              "      <th>2</th>\n",
              "      <td>01ad2da675f70d124acfe65acd4bafda</td>\n",
              "      <td>1-128c5e33eff8d7c2de300455b8fb886b</td>\n",
              "      <td>2018-10-12</td>\n",
              "      <td>Brooklin</td>\n",
              "      <td>-23.6263</td>\n",
              "      <td>-46.6878</td>\n",
              "      <td>29141</td>\n",
              "      <td>45</td>\n",
              "      <td>18</td>\n",
              "      <td>29</td>\n",
              "      <td>23</td>\n",
              "      <td>4</td>\n",
              "      <td>18</td>\n",
              "      <td>30</td>\n",
              "      <td>43</td>\n",
              "      <td>NORMAL</td>\n",
              "      <td>14682</td>\n",
              "    </tr>\n",
              "    <tr>\n",
              "      <th>3</th>\n",
              "      <td>01ad2da675f70d124acfe65acd4c88c0</td>\n",
              "      <td>1-93e9602b52e8674c28261f57ea48819f</td>\n",
              "      <td>2018-12-15</td>\n",
              "      <td>Brooklin</td>\n",
              "      <td>-23.6263</td>\n",
              "      <td>-46.6878</td>\n",
              "      <td>30022</td>\n",
              "      <td>50</td>\n",
              "      <td>20</td>\n",
              "      <td>41</td>\n",
              "      <td>8</td>\n",
              "      <td>3</td>\n",
              "      <td>27</td>\n",
              "      <td>36</td>\n",
              "      <td>28</td>\n",
              "      <td>NORMAL</td>\n",
              "      <td>14745</td>\n",
              "    </tr>\n",
              "    <tr>\n",
              "      <th>4</th>\n",
              "      <td>01ad2da675f70d124acfe65acd4d4a62</td>\n",
              "      <td>1-6ae2f57775377fd4b60ba32447d139ca</td>\n",
              "      <td>2019-2-11</td>\n",
              "      <td>Brooklin</td>\n",
              "      <td>-23.6263</td>\n",
              "      <td>-46.6878</td>\n",
              "      <td>26113</td>\n",
              "      <td>86</td>\n",
              "      <td>23</td>\n",
              "      <td>35</td>\n",
              "      <td>43</td>\n",
              "      <td>32</td>\n",
              "      <td>9</td>\n",
              "      <td>9</td>\n",
              "      <td>18</td>\n",
              "      <td>NORMAL</td>\n",
              "      <td>14801</td>\n",
              "    </tr>\n",
              "  </tbody>\n",
              "</table>\n",
              "</div>"
            ],
            "text/plain": [
              "                                _id                                _rev  \\\n",
              "0  01ad2da675f70d124acfe65acd4b3df8  1-52e52f75f247490db40b85143f2c5064   \n",
              "1  01ad2da675f70d124acfe65acd4b5535  1-79d666608e50f723dae475bfdffa51f7   \n",
              "2  01ad2da675f70d124acfe65acd4bafda  1-128c5e33eff8d7c2de300455b8fb886b   \n",
              "3  01ad2da675f70d124acfe65acd4c88c0  1-93e9602b52e8674c28261f57ea48819f   \n",
              "4  01ad2da675f70d124acfe65acd4d4a62  1-6ae2f57775377fd4b60ba32447d139ca   \n",
              "\n",
              "        Tempo   Estação      LAT     LONG  Movimentação  Original_473  \\\n",
              "0   2018-9-25  Brooklin -23.6263 -46.6878         26322            45   \n",
              "1   2018-9-29  Brooklin -23.6263 -46.6878         26417            86   \n",
              "2  2018-10-12  Brooklin -23.6263 -46.6878         29141            45   \n",
              "3  2018-12-15  Brooklin -23.6263 -46.6878         30022            50   \n",
              "4   2019-2-11  Brooklin -23.6263 -46.6878         26113            86   \n",
              "\n",
              "   Original_269  Zero  Maçã-Verde  Tangerina  Citrus  Açaí-Guaraná  Pêssego  \\\n",
              "0            58    16          38         35      37             3       24   \n",
              "1            37    60          25         20      22            34        6   \n",
              "2            18    29          23          4      18            30       43   \n",
              "3            20    41           8          3      27            36       28   \n",
              "4            23    35          43         32       9             9       18   \n",
              "\n",
              "        TARGET    row  \n",
              "0  REABASTECER  14665  \n",
              "1  REABASTECER  14669  \n",
              "2       NORMAL  14682  \n",
              "3       NORMAL  14745  \n",
              "4       NORMAL  14801  "
            ]
          },
          "metadata": {
            "tags": []
          },
          "execution_count": 209
        }
      ]
    },
    {
      "cell_type": "code",
      "metadata": {
        "id": "IKRt0Kt2ZlA4",
        "colab_type": "code",
        "colab": {
          "base_uri": "https://localhost:8080/",
          "height": 34
        },
        "outputId": "0a0953a7-838a-4eac-c40b-ef6b3ef5eb9b"
      },
      "source": [
        "#aqui vejo a quantidade de linhas e colunas do dataset\n",
        "df.shape"
      ],
      "execution_count": null,
      "outputs": [
        {
          "output_type": "execute_result",
          "data": {
            "text/plain": [
              "(4542, 17)"
            ]
          },
          "metadata": {
            "tags": []
          },
          "execution_count": 210
        }
      ]
    },
    {
      "cell_type": "code",
      "metadata": {
        "id": "Rdf14oTGZk-5",
        "colab_type": "code",
        "colab": {
          "base_uri": "https://localhost:8080/",
          "height": 428
        },
        "outputId": "f81c041b-6eab-4d41-f58d-219628638a80"
      },
      "source": [
        "df.info()"
      ],
      "execution_count": null,
      "outputs": [
        {
          "output_type": "stream",
          "text": [
            "<class 'pandas.core.frame.DataFrame'>\n",
            "RangeIndex: 4542 entries, 0 to 4541\n",
            "Data columns (total 17 columns):\n",
            " #   Column        Non-Null Count  Dtype  \n",
            "---  ------        --------------  -----  \n",
            " 0   _id           4542 non-null   object \n",
            " 1   _rev          4542 non-null   object \n",
            " 2   Tempo         4542 non-null   object \n",
            " 3   Estação       4542 non-null   object \n",
            " 4   LAT           4542 non-null   float64\n",
            " 5   LONG          4542 non-null   float64\n",
            " 6   Movimentação  4542 non-null   int64  \n",
            " 7   Original_473  4542 non-null   int64  \n",
            " 8   Original_269  4542 non-null   int64  \n",
            " 9   Zero          4542 non-null   int64  \n",
            " 10  Maçã-Verde    4542 non-null   int64  \n",
            " 11  Tangerina     4542 non-null   int64  \n",
            " 12  Citrus        4542 non-null   int64  \n",
            " 13  Açaí-Guaraná  4542 non-null   int64  \n",
            " 14  Pêssego       4542 non-null   int64  \n",
            " 15  TARGET        4542 non-null   object \n",
            " 16  row           4542 non-null   int64  \n",
            "dtypes: float64(2), int64(10), object(5)\n",
            "memory usage: 603.4+ KB\n"
          ],
          "name": "stdout"
        }
      ]
    },
    {
      "cell_type": "code",
      "metadata": {
        "id": "NPqHK_b2dKWy",
        "colab_type": "code",
        "colab": {
          "base_uri": "https://localhost:8080/",
          "height": 86
        },
        "outputId": "79b0384a-50c1-4a0c-f1fe-9df631923efb"
      },
      "source": [
        "#confere as colunas do dataset\n",
        "df.columns"
      ],
      "execution_count": null,
      "outputs": [
        {
          "output_type": "execute_result",
          "data": {
            "text/plain": [
              "Index(['_id', '_rev', 'Tempo', 'Estação', 'LAT', 'LONG', 'Movimentação',\n",
              "       'Original_473', 'Original_269', 'Zero', 'Maçã-Verde', 'Tangerina',\n",
              "       'Citrus', 'Açaí-Guaraná', 'Pêssego', 'TARGET', 'row'],\n",
              "      dtype='object')"
            ]
          },
          "metadata": {
            "tags": []
          },
          "execution_count": 212
        }
      ]
    },
    {
      "cell_type": "markdown",
      "metadata": {
        "id": "1hK0vIYmhdAq",
        "colab_type": "text"
      },
      "source": [
        "# ANALISANDO OS DADOS"
      ]
    },
    {
      "cell_type": "code",
      "metadata": {
        "id": "VZC6waTtGIL8",
        "colab_type": "code",
        "colab": {}
      },
      "source": [
        "features = ['Tempo', 'Estação', 'LAT', 'LONG', 'Movimentação',\n",
        "       'Original_473', 'Original_269', 'Zero', 'Maçã-Verde', 'Tangerina',\n",
        "       'Citrus', 'Açaí-Guaraná', 'Pêssego', 'TARGET', 'row']"
      ],
      "execution_count": null,
      "outputs": []
    },
    {
      "cell_type": "code",
      "metadata": {
        "id": "G-DOffJ3haEe",
        "colab_type": "code",
        "colab": {
          "base_uri": "https://localhost:8080/",
          "height": 326
        },
        "outputId": "e02d2e4e-91c0-435d-98e6-27c1b63d9bca"
      },
      "source": [
        "#criando uma cópia do dataset original \n",
        "dados = df.copy()\n",
        "dados.head()"
      ],
      "execution_count": null,
      "outputs": [
        {
          "output_type": "execute_result",
          "data": {
            "text/html": [
              "<div>\n",
              "<style scoped>\n",
              "    .dataframe tbody tr th:only-of-type {\n",
              "        vertical-align: middle;\n",
              "    }\n",
              "\n",
              "    .dataframe tbody tr th {\n",
              "        vertical-align: top;\n",
              "    }\n",
              "\n",
              "    .dataframe thead th {\n",
              "        text-align: right;\n",
              "    }\n",
              "</style>\n",
              "<table border=\"1\" class=\"dataframe\">\n",
              "  <thead>\n",
              "    <tr style=\"text-align: right;\">\n",
              "      <th></th>\n",
              "      <th>_id</th>\n",
              "      <th>_rev</th>\n",
              "      <th>Tempo</th>\n",
              "      <th>Estação</th>\n",
              "      <th>LAT</th>\n",
              "      <th>LONG</th>\n",
              "      <th>Movimentação</th>\n",
              "      <th>Original_473</th>\n",
              "      <th>Original_269</th>\n",
              "      <th>Zero</th>\n",
              "      <th>Maçã-Verde</th>\n",
              "      <th>Tangerina</th>\n",
              "      <th>Citrus</th>\n",
              "      <th>Açaí-Guaraná</th>\n",
              "      <th>Pêssego</th>\n",
              "      <th>TARGET</th>\n",
              "      <th>row</th>\n",
              "    </tr>\n",
              "  </thead>\n",
              "  <tbody>\n",
              "    <tr>\n",
              "      <th>0</th>\n",
              "      <td>01ad2da675f70d124acfe65acd4b3df8</td>\n",
              "      <td>1-52e52f75f247490db40b85143f2c5064</td>\n",
              "      <td>2018-9-25</td>\n",
              "      <td>Brooklin</td>\n",
              "      <td>-23.6263</td>\n",
              "      <td>-46.6878</td>\n",
              "      <td>26322</td>\n",
              "      <td>45</td>\n",
              "      <td>58</td>\n",
              "      <td>16</td>\n",
              "      <td>38</td>\n",
              "      <td>35</td>\n",
              "      <td>37</td>\n",
              "      <td>3</td>\n",
              "      <td>24</td>\n",
              "      <td>REABASTECER</td>\n",
              "      <td>14665</td>\n",
              "    </tr>\n",
              "    <tr>\n",
              "      <th>1</th>\n",
              "      <td>01ad2da675f70d124acfe65acd4b5535</td>\n",
              "      <td>1-79d666608e50f723dae475bfdffa51f7</td>\n",
              "      <td>2018-9-29</td>\n",
              "      <td>Brooklin</td>\n",
              "      <td>-23.6263</td>\n",
              "      <td>-46.6878</td>\n",
              "      <td>26417</td>\n",
              "      <td>86</td>\n",
              "      <td>37</td>\n",
              "      <td>60</td>\n",
              "      <td>25</td>\n",
              "      <td>20</td>\n",
              "      <td>22</td>\n",
              "      <td>34</td>\n",
              "      <td>6</td>\n",
              "      <td>REABASTECER</td>\n",
              "      <td>14669</td>\n",
              "    </tr>\n",
              "    <tr>\n",
              "      <th>2</th>\n",
              "      <td>01ad2da675f70d124acfe65acd4bafda</td>\n",
              "      <td>1-128c5e33eff8d7c2de300455b8fb886b</td>\n",
              "      <td>2018-10-12</td>\n",
              "      <td>Brooklin</td>\n",
              "      <td>-23.6263</td>\n",
              "      <td>-46.6878</td>\n",
              "      <td>29141</td>\n",
              "      <td>45</td>\n",
              "      <td>18</td>\n",
              "      <td>29</td>\n",
              "      <td>23</td>\n",
              "      <td>4</td>\n",
              "      <td>18</td>\n",
              "      <td>30</td>\n",
              "      <td>43</td>\n",
              "      <td>NORMAL</td>\n",
              "      <td>14682</td>\n",
              "    </tr>\n",
              "    <tr>\n",
              "      <th>3</th>\n",
              "      <td>01ad2da675f70d124acfe65acd4c88c0</td>\n",
              "      <td>1-93e9602b52e8674c28261f57ea48819f</td>\n",
              "      <td>2018-12-15</td>\n",
              "      <td>Brooklin</td>\n",
              "      <td>-23.6263</td>\n",
              "      <td>-46.6878</td>\n",
              "      <td>30022</td>\n",
              "      <td>50</td>\n",
              "      <td>20</td>\n",
              "      <td>41</td>\n",
              "      <td>8</td>\n",
              "      <td>3</td>\n",
              "      <td>27</td>\n",
              "      <td>36</td>\n",
              "      <td>28</td>\n",
              "      <td>NORMAL</td>\n",
              "      <td>14745</td>\n",
              "    </tr>\n",
              "    <tr>\n",
              "      <th>4</th>\n",
              "      <td>01ad2da675f70d124acfe65acd4d4a62</td>\n",
              "      <td>1-6ae2f57775377fd4b60ba32447d139ca</td>\n",
              "      <td>2019-2-11</td>\n",
              "      <td>Brooklin</td>\n",
              "      <td>-23.6263</td>\n",
              "      <td>-46.6878</td>\n",
              "      <td>26113</td>\n",
              "      <td>86</td>\n",
              "      <td>23</td>\n",
              "      <td>35</td>\n",
              "      <td>43</td>\n",
              "      <td>32</td>\n",
              "      <td>9</td>\n",
              "      <td>9</td>\n",
              "      <td>18</td>\n",
              "      <td>NORMAL</td>\n",
              "      <td>14801</td>\n",
              "    </tr>\n",
              "  </tbody>\n",
              "</table>\n",
              "</div>"
            ],
            "text/plain": [
              "                                _id                                _rev  \\\n",
              "0  01ad2da675f70d124acfe65acd4b3df8  1-52e52f75f247490db40b85143f2c5064   \n",
              "1  01ad2da675f70d124acfe65acd4b5535  1-79d666608e50f723dae475bfdffa51f7   \n",
              "2  01ad2da675f70d124acfe65acd4bafda  1-128c5e33eff8d7c2de300455b8fb886b   \n",
              "3  01ad2da675f70d124acfe65acd4c88c0  1-93e9602b52e8674c28261f57ea48819f   \n",
              "4  01ad2da675f70d124acfe65acd4d4a62  1-6ae2f57775377fd4b60ba32447d139ca   \n",
              "\n",
              "        Tempo   Estação      LAT     LONG  Movimentação  Original_473  \\\n",
              "0   2018-9-25  Brooklin -23.6263 -46.6878         26322            45   \n",
              "1   2018-9-29  Brooklin -23.6263 -46.6878         26417            86   \n",
              "2  2018-10-12  Brooklin -23.6263 -46.6878         29141            45   \n",
              "3  2018-12-15  Brooklin -23.6263 -46.6878         30022            50   \n",
              "4   2019-2-11  Brooklin -23.6263 -46.6878         26113            86   \n",
              "\n",
              "   Original_269  Zero  Maçã-Verde  Tangerina  Citrus  Açaí-Guaraná  Pêssego  \\\n",
              "0            58    16          38         35      37             3       24   \n",
              "1            37    60          25         20      22            34        6   \n",
              "2            18    29          23          4      18            30       43   \n",
              "3            20    41           8          3      27            36       28   \n",
              "4            23    35          43         32       9             9       18   \n",
              "\n",
              "        TARGET    row  \n",
              "0  REABASTECER  14665  \n",
              "1  REABASTECER  14669  \n",
              "2       NORMAL  14682  \n",
              "3       NORMAL  14745  \n",
              "4       NORMAL  14801  "
            ]
          },
          "metadata": {
            "tags": []
          },
          "execution_count": 214
        }
      ]
    },
    {
      "cell_type": "code",
      "metadata": {
        "id": "8zsGpw9Kh5oQ",
        "colab_type": "code",
        "colab": {}
      },
      "source": [
        "#convertendo as colunas de object para string\n",
        "dados = dados.drop_duplicates(subset=['row']).copy()"
      ],
      "execution_count": null,
      "outputs": []
    },
    {
      "cell_type": "code",
      "metadata": {
        "id": "iWRG2tVxF3U-",
        "colab_type": "code",
        "colab": {
          "base_uri": "https://localhost:8080/",
          "height": 34
        },
        "outputId": "4b9037bb-157b-41ec-ac9c-9fdcc3867b3b"
      },
      "source": [
        "dados.shape"
      ],
      "execution_count": null,
      "outputs": [
        {
          "output_type": "execute_result",
          "data": {
            "text/plain": [
              "(4121, 17)"
            ]
          },
          "metadata": {
            "tags": []
          },
          "execution_count": 216
        }
      ]
    },
    {
      "cell_type": "code",
      "metadata": {
        "id": "-l3H5-T_Nhom",
        "colab_type": "code",
        "colab": {}
      },
      "source": [
        "sabores = ['Original_473', 'Original_269', 'Zero', 'Maçã-Verde', 'Tangerina',\n",
        "       'Citrus', 'Açaí-Guaraná', 'Pêssego']"
      ],
      "execution_count": null,
      "outputs": []
    },
    {
      "cell_type": "code",
      "metadata": {
        "id": "HOjj6tK6BzQ6",
        "colab_type": "code",
        "colab": {}
      },
      "source": [
        "#incluindo uma coluna com a média de latas por máquina\n",
        "dados['Media'] = dados[sabores].mean(axis=1)\n",
        "#incluindo uma coluna com a mediana de latas por máquina\n",
        "dados['Mediana'] = dados[sabores].median(axis=1)"
      ],
      "execution_count": null,
      "outputs": []
    },
    {
      "cell_type": "code",
      "metadata": {
        "id": "te-mVMR4h-_Z",
        "colab_type": "code",
        "colab": {
          "base_uri": "https://localhost:8080/",
          "height": 463
        },
        "outputId": "d4cf1b45-b917-478c-c5f2-3cbdc41ef0d6"
      },
      "source": [
        "#conferindo quantos dados sobraram\n",
        "dados.info()"
      ],
      "execution_count": null,
      "outputs": [
        {
          "output_type": "stream",
          "text": [
            "<class 'pandas.core.frame.DataFrame'>\n",
            "Int64Index: 4121 entries, 0 to 4541\n",
            "Data columns (total 19 columns):\n",
            " #   Column        Non-Null Count  Dtype  \n",
            "---  ------        --------------  -----  \n",
            " 0   _id           4121 non-null   object \n",
            " 1   _rev          4121 non-null   object \n",
            " 2   Tempo         4121 non-null   object \n",
            " 3   Estação       4121 non-null   object \n",
            " 4   LAT           4121 non-null   float64\n",
            " 5   LONG          4121 non-null   float64\n",
            " 6   Movimentação  4121 non-null   int64  \n",
            " 7   Original_473  4121 non-null   int64  \n",
            " 8   Original_269  4121 non-null   int64  \n",
            " 9   Zero          4121 non-null   int64  \n",
            " 10  Maçã-Verde    4121 non-null   int64  \n",
            " 11  Tangerina     4121 non-null   int64  \n",
            " 12  Citrus        4121 non-null   int64  \n",
            " 13  Açaí-Guaraná  4121 non-null   int64  \n",
            " 14  Pêssego       4121 non-null   int64  \n",
            " 15  TARGET        4121 non-null   object \n",
            " 16  row           4121 non-null   int64  \n",
            " 17  Media         4121 non-null   float64\n",
            " 18  Mediana       4121 non-null   float64\n",
            "dtypes: float64(4), int64(10), object(5)\n",
            "memory usage: 643.9+ KB\n"
          ],
          "name": "stdout"
        }
      ]
    },
    {
      "cell_type": "code",
      "metadata": {
        "id": "USkd0N2WjL33",
        "colab_type": "code",
        "colab": {}
      },
      "source": [
        "#promise do python - não funcionou\n",
        "try:\n",
        "  #converte uma coluna para tempo - útil para séries temporais\n",
        "  dados['Tempo'] = pd.to_datetime(dados['Tempo'], yearfirst=True)\n",
        "except:\n",
        "  pass\n",
        "  "
      ],
      "execution_count": null,
      "outputs": []
    },
    {
      "cell_type": "code",
      "metadata": {
        "id": "6y0fk68ciXPn",
        "colab_type": "code",
        "colab": {}
      },
      "source": [
        "#importando libs de visualização\n",
        "import matplotlib.pyplot as plt\n",
        "import seaborn as sns\n",
        "import sweetviz"
      ],
      "execution_count": null,
      "outputs": []
    },
    {
      "cell_type": "code",
      "metadata": {
        "id": "PZL5RkR6kXze",
        "colab_type": "code",
        "colab": {
          "base_uri": "https://localhost:8080/",
          "height": 34
        },
        "outputId": "342144a3-7db6-4838-d9c4-9b04fa0077d9"
      },
      "source": [
        "#comparando se tem linhas com o a informação row repetida\n",
        "len(dados['row']),len(set(dados['row'])) #tamanho da série, e comparo com o tamanho do set(que remove duplicidades)"
      ],
      "execution_count": null,
      "outputs": [
        {
          "output_type": "execute_result",
          "data": {
            "text/plain": [
              "(4121, 4121)"
            ]
          },
          "metadata": {
            "tags": []
          },
          "execution_count": 222
        }
      ]
    },
    {
      "cell_type": "code",
      "metadata": {
        "id": "_7HVQalZluVC",
        "colab_type": "code",
        "colab": {}
      },
      "source": [
        "#criando dois subsets, um só com as linhas com Target Reabastecer e outro com a Normal\n",
        "reabastecer = dados.loc[dados['TARGET'] == 'REABASTECER'] #método de subset .loc\n",
        "normal = dados.query('TARGET == \"NORMAL\"') #usando uma query"
      ],
      "execution_count": null,
      "outputs": []
    },
    {
      "cell_type": "code",
      "metadata": {
        "id": "8Qz9mog-lVSB",
        "colab_type": "code",
        "colab": {
          "base_uri": "https://localhost:8080/",
          "height": 34
        },
        "outputId": "6333c45d-3958-492d-ed66-4f7bd0ada5c2"
      },
      "source": [
        "#comparando o balanceamento\n",
        "reabastecer.shape[0], normal.shape[0] "
      ],
      "execution_count": null,
      "outputs": [
        {
          "output_type": "execute_result",
          "data": {
            "text/plain": [
              "(1348, 2773)"
            ]
          },
          "metadata": {
            "tags": []
          },
          "execution_count": 224
        }
      ]
    },
    {
      "cell_type": "code",
      "metadata": {
        "id": "I1BjbxCpqPUe",
        "colab_type": "code",
        "colab": {}
      },
      "source": [
        "#função para criar gráficos\n",
        "def dist(sabor):\n",
        "  ax1 = sns.distplot(reabastecer[sabor])\n",
        "  ax2 = sns.distplot(normal[sabor]);"
      ],
      "execution_count": null,
      "outputs": []
    },
    {
      "cell_type": "code",
      "metadata": {
        "id": "5n08_7UQ4A0u",
        "colab_type": "code",
        "colab": {
          "base_uri": "https://localhost:8080/",
          "height": 378
        },
        "outputId": "097dd7be-2d9c-48a2-c489-21286c1705db"
      },
      "source": [
        "dist('Media')"
      ],
      "execution_count": null,
      "outputs": [
        {
          "output_type": "display_data",
          "data": {
            "image/png": "[encoded data removed]",
            "text/plain": [
              "<Figure size 600x400 with 1 Axes>"
            ]
          },
          "metadata": {
            "tags": []
          }
        }
      ]
    },
    {
      "cell_type": "code",
      "metadata": {
        "id": "vFte0SF4HgCC",
        "colab_type": "code",
        "colab": {
          "base_uri": "https://localhost:8080/",
          "height": 378
        },
        "outputId": "e3258f7a-8e6f-4384-e8dc-c79fcbfc5935"
      },
      "source": [
        "dist('Mediana')"
      ],
      "execution_count": null,
      "outputs": [
        {
          "output_type": "display_data",
          "data": {
            "image/png": "[encoded data removed]",
            "text/plain": [
              "<Figure size 600x400 with 1 Axes>"
            ]
          },
          "metadata": {
            "tags": []
          }
        }
      ]
    },
    {
      "cell_type": "code",
      "metadata": {
        "id": "e8ZI_IdFIFNH",
        "colab_type": "code",
        "colab": {}
      },
      "source": [
        "from statsmodels.graphics.gofplots import qqplot\n",
        "import scipy.stats as sct"
      ],
      "execution_count": null,
      "outputs": []
    },
    {
      "cell_type": "code",
      "metadata": {
        "id": "W_Lep7OBJVGV",
        "colab_type": "code",
        "colab": {
          "base_uri": "https://localhost:8080/",
          "height": 51
        },
        "outputId": "74baf2fd-31d6-4cab-8682-fa44cd2f21de"
      },
      "source": [
        "#verificando se a média se distribui como uma normal\n",
        "estatistica, p_valor = sct.shapiro(dados['Media'])\n",
        "print(estatistica)\n",
        "print(p_valor)"
      ],
      "execution_count": null,
      "outputs": [
        {
          "output_type": "stream",
          "text": [
            "0.9982832670211792\n",
            "0.00018662429647520185\n"
          ],
          "name": "stdout"
        }
      ]
    },
    {
      "cell_type": "code",
      "metadata": {
        "id": "xY1X8llSJ2Fs",
        "colab_type": "code",
        "colab": {
          "base_uri": "https://localhost:8080/",
          "height": 34
        },
        "outputId": "3c16703d-8d84-4b63-c617-73be33e904a9"
      },
      "source": [
        "#testando a hipótese nula de que a distribuição é normal\n",
        "significancia = 0.05\n",
        "p_valor <= significancia"
      ],
      "execution_count": null,
      "outputs": [
        {
          "output_type": "execute_result",
          "data": {
            "text/plain": [
              "True"
            ]
          },
          "metadata": {
            "tags": []
          },
          "execution_count": 230
        }
      ]
    },
    {
      "cell_type": "code",
      "metadata": {
        "id": "-njkBV0NIMDq",
        "colab_type": "code",
        "colab": {
          "base_uri": "https://localhost:8080/",
          "height": 378
        },
        "outputId": "78dd70ca-a66f-4233-b1c0-4abaf67a620d"
      },
      "source": [
        "qqplot(dados['Media']);"
      ],
      "execution_count": null,
      "outputs": [
        {
          "output_type": "display_data",
          "data": {
            "image/png": "[encoded data removed]",
            "text/plain": [
              "<Figure size 600x400 with 1 Axes>"
            ]
          },
          "metadata": {
            "tags": []
          }
        }
      ]
    },
    {
      "cell_type": "code",
      "metadata": {
        "id": "UyNE51UD7ohG",
        "colab_type": "code",
        "colab": {
          "base_uri": "https://localhost:8080/",
          "height": 378
        },
        "outputId": "bb33890c-2eeb-4f24-9c2b-082336e48245"
      },
      "source": [
        "#distribuição da movimentação entre máquinas por reabastecer e em status normal\n",
        "dist('Movimentação')"
      ],
      "execution_count": null,
      "outputs": [
        {
          "output_type": "display_data",
          "data": {
            "image/png": "[encoded data removed]",
            "text/plain": [
              "<Figure size 600x400 with 1 Axes>"
            ]
          },
          "metadata": {
            "tags": []
          }
        }
      ]
    },
    {
      "cell_type": "code",
      "metadata": {
        "id": "u_QgeO0rAfob",
        "colab_type": "code",
        "colab": {
          "base_uri": "https://localhost:8080/",
          "height": 395
        },
        "outputId": "e00ba49b-e2fd-4307-e92a-fd51668ceb6b"
      },
      "source": [
        "print(dados['Zero'].mean(), dados['Zero'].median())\n",
        "sns.distplot(dados['Zero']);"
      ],
      "execution_count": null,
      "outputs": [
        {
          "output_type": "stream",
          "text": [
            "35.76510555690366 36.0\n"
          ],
          "name": "stdout"
        },
        {
          "output_type": "display_data",
          "data": {
            "image/png": "[encoded data removed]",
            "text/plain": [
              "<Figure size 600x400 with 1 Axes>"
            ]
          },
          "metadata": {
            "tags": []
          }
        }
      ]
    },
    {
      "cell_type": "code",
      "metadata": {
        "id": "7hsH0uigB75C",
        "colab_type": "code",
        "colab": {}
      },
      "source": [
        "sabores.append('Media')\n",
        "sabores.append('Mediana')"
      ],
      "execution_count": null,
      "outputs": []
    },
    {
      "cell_type": "code",
      "metadata": {
        "id": "3FJTruQKK9XT",
        "colab_type": "code",
        "colab": {
          "base_uri": "https://localhost:8080/",
          "height": 188
        },
        "outputId": "c1edfb2c-a362-48b1-f5ae-d2584528c228"
      },
      "source": [
        "sabores"
      ],
      "execution_count": null,
      "outputs": [
        {
          "output_type": "execute_result",
          "data": {
            "text/plain": [
              "['Original_473',\n",
              " 'Original_269',\n",
              " 'Zero',\n",
              " 'Maçã-Verde',\n",
              " 'Tangerina',\n",
              " 'Citrus',\n",
              " 'Açaí-Guaraná',\n",
              " 'Pêssego',\n",
              " 'Media',\n",
              " 'Mediana']"
            ]
          },
          "metadata": {
            "tags": []
          },
          "execution_count": 235
        }
      ]
    },
    {
      "cell_type": "code",
      "metadata": {
        "id": "OPwibCqfLH5V",
        "colab_type": "code",
        "colab": {}
      },
      "source": [
        "#selecionando as features\n",
        "features = sabores.copy()"
      ],
      "execution_count": null,
      "outputs": []
    },
    {
      "cell_type": "code",
      "metadata": {
        "id": "JMhWnvPuB6y7",
        "colab_type": "code",
        "colab": {
          "base_uri": "https://localhost:8080/",
          "height": 326
        },
        "outputId": "7190d64c-0452-4f27-af2c-69e106166216"
      },
      "source": [
        "dados.head()"
      ],
      "execution_count": null,
      "outputs": [
        {
          "output_type": "execute_result",
          "data": {
            "text/html": [
              "<div>\n",
              "<style scoped>\n",
              "    .dataframe tbody tr th:only-of-type {\n",
              "        vertical-align: middle;\n",
              "    }\n",
              "\n",
              "    .dataframe tbody tr th {\n",
              "        vertical-align: top;\n",
              "    }\n",
              "\n",
              "    .dataframe thead th {\n",
              "        text-align: right;\n",
              "    }\n",
              "</style>\n",
              "<table border=\"1\" class=\"dataframe\">\n",
              "  <thead>\n",
              "    <tr style=\"text-align: right;\">\n",
              "      <th></th>\n",
              "      <th>_id</th>\n",
              "      <th>_rev</th>\n",
              "      <th>Tempo</th>\n",
              "      <th>Estação</th>\n",
              "      <th>LAT</th>\n",
              "      <th>LONG</th>\n",
              "      <th>Movimentação</th>\n",
              "      <th>Original_473</th>\n",
              "      <th>Original_269</th>\n",
              "      <th>Zero</th>\n",
              "      <th>Maçã-Verde</th>\n",
              "      <th>Tangerina</th>\n",
              "      <th>Citrus</th>\n",
              "      <th>Açaí-Guaraná</th>\n",
              "      <th>Pêssego</th>\n",
              "      <th>TARGET</th>\n",
              "      <th>row</th>\n",
              "      <th>Media</th>\n",
              "      <th>Mediana</th>\n",
              "    </tr>\n",
              "  </thead>\n",
              "  <tbody>\n",
              "    <tr>\n",
              "      <th>0</th>\n",
              "      <td>01ad2da675f70d124acfe65acd4b3df8</td>\n",
              "      <td>1-52e52f75f247490db40b85143f2c5064</td>\n",
              "      <td>2018-9-25</td>\n",
              "      <td>Brooklin</td>\n",
              "      <td>-23.6263</td>\n",
              "      <td>-46.6878</td>\n",
              "      <td>26322</td>\n",
              "      <td>45</td>\n",
              "      <td>58</td>\n",
              "      <td>16</td>\n",
              "      <td>38</td>\n",
              "      <td>35</td>\n",
              "      <td>37</td>\n",
              "      <td>3</td>\n",
              "      <td>24</td>\n",
              "      <td>REABASTECER</td>\n",
              "      <td>14665</td>\n",
              "      <td>32.000</td>\n",
              "      <td>36.0</td>\n",
              "    </tr>\n",
              "    <tr>\n",
              "      <th>1</th>\n",
              "      <td>01ad2da675f70d124acfe65acd4b5535</td>\n",
              "      <td>1-79d666608e50f723dae475bfdffa51f7</td>\n",
              "      <td>2018-9-29</td>\n",
              "      <td>Brooklin</td>\n",
              "      <td>-23.6263</td>\n",
              "      <td>-46.6878</td>\n",
              "      <td>26417</td>\n",
              "      <td>86</td>\n",
              "      <td>37</td>\n",
              "      <td>60</td>\n",
              "      <td>25</td>\n",
              "      <td>20</td>\n",
              "      <td>22</td>\n",
              "      <td>34</td>\n",
              "      <td>6</td>\n",
              "      <td>REABASTECER</td>\n",
              "      <td>14669</td>\n",
              "      <td>36.250</td>\n",
              "      <td>29.5</td>\n",
              "    </tr>\n",
              "    <tr>\n",
              "      <th>2</th>\n",
              "      <td>01ad2da675f70d124acfe65acd4bafda</td>\n",
              "      <td>1-128c5e33eff8d7c2de300455b8fb886b</td>\n",
              "      <td>2018-10-12</td>\n",
              "      <td>Brooklin</td>\n",
              "      <td>-23.6263</td>\n",
              "      <td>-46.6878</td>\n",
              "      <td>29141</td>\n",
              "      <td>45</td>\n",
              "      <td>18</td>\n",
              "      <td>29</td>\n",
              "      <td>23</td>\n",
              "      <td>4</td>\n",
              "      <td>18</td>\n",
              "      <td>30</td>\n",
              "      <td>43</td>\n",
              "      <td>NORMAL</td>\n",
              "      <td>14682</td>\n",
              "      <td>26.250</td>\n",
              "      <td>26.0</td>\n",
              "    </tr>\n",
              "    <tr>\n",
              "      <th>3</th>\n",
              "      <td>01ad2da675f70d124acfe65acd4c88c0</td>\n",
              "      <td>1-93e9602b52e8674c28261f57ea48819f</td>\n",
              "      <td>2018-12-15</td>\n",
              "      <td>Brooklin</td>\n",
              "      <td>-23.6263</td>\n",
              "      <td>-46.6878</td>\n",
              "      <td>30022</td>\n",
              "      <td>50</td>\n",
              "      <td>20</td>\n",
              "      <td>41</td>\n",
              "      <td>8</td>\n",
              "      <td>3</td>\n",
              "      <td>27</td>\n",
              "      <td>36</td>\n",
              "      <td>28</td>\n",
              "      <td>NORMAL</td>\n",
              "      <td>14745</td>\n",
              "      <td>26.625</td>\n",
              "      <td>27.5</td>\n",
              "    </tr>\n",
              "    <tr>\n",
              "      <th>4</th>\n",
              "      <td>01ad2da675f70d124acfe65acd4d4a62</td>\n",
              "      <td>1-6ae2f57775377fd4b60ba32447d139ca</td>\n",
              "      <td>2019-2-11</td>\n",
              "      <td>Brooklin</td>\n",
              "      <td>-23.6263</td>\n",
              "      <td>-46.6878</td>\n",
              "      <td>26113</td>\n",
              "      <td>86</td>\n",
              "      <td>23</td>\n",
              "      <td>35</td>\n",
              "      <td>43</td>\n",
              "      <td>32</td>\n",
              "      <td>9</td>\n",
              "      <td>9</td>\n",
              "      <td>18</td>\n",
              "      <td>NORMAL</td>\n",
              "      <td>14801</td>\n",
              "      <td>31.875</td>\n",
              "      <td>27.5</td>\n",
              "    </tr>\n",
              "  </tbody>\n",
              "</table>\n",
              "</div>"
            ],
            "text/plain": [
              "                                _id                                _rev  \\\n",
              "0  01ad2da675f70d124acfe65acd4b3df8  1-52e52f75f247490db40b85143f2c5064   \n",
              "1  01ad2da675f70d124acfe65acd4b5535  1-79d666608e50f723dae475bfdffa51f7   \n",
              "2  01ad2da675f70d124acfe65acd4bafda  1-128c5e33eff8d7c2de300455b8fb886b   \n",
              "3  01ad2da675f70d124acfe65acd4c88c0  1-93e9602b52e8674c28261f57ea48819f   \n",
              "4  01ad2da675f70d124acfe65acd4d4a62  1-6ae2f57775377fd4b60ba32447d139ca   \n",
              "\n",
              "        Tempo   Estação      LAT     LONG  Movimentação  Original_473  \\\n",
              "0   2018-9-25  Brooklin -23.6263 -46.6878         26322            45   \n",
              "1   2018-9-29  Brooklin -23.6263 -46.6878         26417            86   \n",
              "2  2018-10-12  Brooklin -23.6263 -46.6878         29141            45   \n",
              "3  2018-12-15  Brooklin -23.6263 -46.6878         30022            50   \n",
              "4   2019-2-11  Brooklin -23.6263 -46.6878         26113            86   \n",
              "\n",
              "   Original_269  Zero  Maçã-Verde  Tangerina  Citrus  Açaí-Guaraná  Pêssego  \\\n",
              "0            58    16          38         35      37             3       24   \n",
              "1            37    60          25         20      22            34        6   \n",
              "2            18    29          23          4      18            30       43   \n",
              "3            20    41           8          3      27            36       28   \n",
              "4            23    35          43         32       9             9       18   \n",
              "\n",
              "        TARGET    row   Media  Mediana  \n",
              "0  REABASTECER  14665  32.000     36.0  \n",
              "1  REABASTECER  14669  36.250     29.5  \n",
              "2       NORMAL  14682  26.250     26.0  \n",
              "3       NORMAL  14745  26.625     27.5  \n",
              "4       NORMAL  14801  31.875     27.5  "
            ]
          },
          "metadata": {
            "tags": []
          },
          "execution_count": 237
        }
      ]
    },
    {
      "cell_type": "code",
      "metadata": {
        "id": "07qiOYrp9Zqh",
        "colab_type": "code",
        "colab": {
          "base_uri": "https://localhost:8080/",
          "height": 68
        },
        "outputId": "74109892-c2f7-40a0-eb68-2e5cc4a23d07"
      },
      "source": [
        "#criar uma análise do sweetviz\n",
        "my_report = sweetviz.analyze(dados)"
      ],
      "execution_count": null,
      "outputs": [
        {
          "output_type": "stream",
          "text": [
            ":FEATURES DONE:                    |█████████████████████| [100%]   00:08  -> (00:00 left)\n",
            ":PAIRWISE DONE:                    |█████████████████████| [100%]   00:00  -> (00:00 left)\n"
          ],
          "name": "stderr"
        },
        {
          "output_type": "stream",
          "text": [
            "Creating Associations graph... DONE!\n"
          ],
          "name": "stdout"
        }
      ]
    },
    {
      "cell_type": "code",
      "metadata": {
        "id": "jY0v93F3-mKI",
        "colab_type": "code",
        "colab": {
          "base_uri": "https://localhost:8080/",
          "height": 54
        },
        "outputId": "7bceafa9-e7f0-4f36-fd4c-93b38a063103"
      },
      "source": [
        "my_report.show_html('report_tnt.html')"
      ],
      "execution_count": null,
      "outputs": [
        {
          "output_type": "stream",
          "text": [
            "Report report_tnt.html was generated! NOTEBOOK/COLAB USERS: no browser will pop up, the report is saved in your notebook/colab files.\n"
          ],
          "name": "stdout"
        }
      ]
    },
    {
      "cell_type": "code",
      "metadata": {
        "id": "L72HLdIdNsVp",
        "colab_type": "code",
        "colab": {}
      },
      "source": [
        "#criando nosso X e Y\n",
        "X = dados[features]\n",
        "y = dados.TARGET"
      ],
      "execution_count": null,
      "outputs": []
    },
    {
      "cell_type": "code",
      "metadata": {
        "id": "U-YqCcj9g9CL",
        "colab_type": "code",
        "colab": {}
      },
      "source": [
        "from sklearn.feature_selection import RFECV\n",
        "from sklearn.ensemble import BaggingClassifier, RandomForestClassifier, AdaBoostClassifier, GradientBoostingClassifier"
      ],
      "execution_count": null,
      "outputs": []
    },
    {
      "cell_type": "code",
      "metadata": {
        "id": "G9MOlPtWhX7f",
        "colab_type": "code",
        "colab": {
          "base_uri": "https://localhost:8080/",
          "height": 454
        },
        "outputId": "37e4134f-947d-441d-d161-c91ca96d4799"
      },
      "source": [
        "numericos = dados.select_dtypes(include='number')\n",
        "numericos = numericos.drop(['row'], axis=1)\n",
        "numericos"
      ],
      "execution_count": null,
      "outputs": [
        {
          "output_type": "execute_result",
          "data": {
            "text/html": [
              "<div>\n",
              "<style scoped>\n",
              "    .dataframe tbody tr th:only-of-type {\n",
              "        vertical-align: middle;\n",
              "    }\n",
              "\n",
              "    .dataframe tbody tr th {\n",
              "        vertical-align: top;\n",
              "    }\n",
              "\n",
              "    .dataframe thead th {\n",
              "        text-align: right;\n",
              "    }\n",
              "</style>\n",
              "<table border=\"1\" class=\"dataframe\">\n",
              "  <thead>\n",
              "    <tr style=\"text-align: right;\">\n",
              "      <th></th>\n",
              "      <th>LAT</th>\n",
              "      <th>LONG</th>\n",
              "      <th>Movimentação</th>\n",
              "      <th>Original_473</th>\n",
              "      <th>Original_269</th>\n",
              "      <th>Zero</th>\n",
              "      <th>Maçã-Verde</th>\n",
              "      <th>Tangerina</th>\n",
              "      <th>Citrus</th>\n",
              "      <th>Açaí-Guaraná</th>\n",
              "      <th>Pêssego</th>\n",
              "      <th>Media</th>\n",
              "      <th>Mediana</th>\n",
              "    </tr>\n",
              "  </thead>\n",
              "  <tbody>\n",
              "    <tr>\n",
              "      <th>0</th>\n",
              "      <td>-23.6263</td>\n",
              "      <td>-46.6878</td>\n",
              "      <td>26322</td>\n",
              "      <td>45</td>\n",
              "      <td>58</td>\n",
              "      <td>16</td>\n",
              "      <td>38</td>\n",
              "      <td>35</td>\n",
              "      <td>37</td>\n",
              "      <td>3</td>\n",
              "      <td>24</td>\n",
              "      <td>32.000</td>\n",
              "      <td>36.0</td>\n",
              "    </tr>\n",
              "    <tr>\n",
              "      <th>1</th>\n",
              "      <td>-23.6263</td>\n",
              "      <td>-46.6878</td>\n",
              "      <td>26417</td>\n",
              "      <td>86</td>\n",
              "      <td>37</td>\n",
              "      <td>60</td>\n",
              "      <td>25</td>\n",
              "      <td>20</td>\n",
              "      <td>22</td>\n",
              "      <td>34</td>\n",
              "      <td>6</td>\n",
              "      <td>36.250</td>\n",
              "      <td>29.5</td>\n",
              "    </tr>\n",
              "    <tr>\n",
              "      <th>2</th>\n",
              "      <td>-23.6263</td>\n",
              "      <td>-46.6878</td>\n",
              "      <td>29141</td>\n",
              "      <td>45</td>\n",
              "      <td>18</td>\n",
              "      <td>29</td>\n",
              "      <td>23</td>\n",
              "      <td>4</td>\n",
              "      <td>18</td>\n",
              "      <td>30</td>\n",
              "      <td>43</td>\n",
              "      <td>26.250</td>\n",
              "      <td>26.0</td>\n",
              "    </tr>\n",
              "    <tr>\n",
              "      <th>3</th>\n",
              "      <td>-23.6263</td>\n",
              "      <td>-46.6878</td>\n",
              "      <td>30022</td>\n",
              "      <td>50</td>\n",
              "      <td>20</td>\n",
              "      <td>41</td>\n",
              "      <td>8</td>\n",
              "      <td>3</td>\n",
              "      <td>27</td>\n",
              "      <td>36</td>\n",
              "      <td>28</td>\n",
              "      <td>26.625</td>\n",
              "      <td>27.5</td>\n",
              "    </tr>\n",
              "    <tr>\n",
              "      <th>4</th>\n",
              "      <td>-23.6263</td>\n",
              "      <td>-46.6878</td>\n",
              "      <td>26113</td>\n",
              "      <td>86</td>\n",
              "      <td>23</td>\n",
              "      <td>35</td>\n",
              "      <td>43</td>\n",
              "      <td>32</td>\n",
              "      <td>9</td>\n",
              "      <td>9</td>\n",
              "      <td>18</td>\n",
              "      <td>31.875</td>\n",
              "      <td>27.5</td>\n",
              "    </tr>\n",
              "    <tr>\n",
              "      <th>...</th>\n",
              "      <td>...</td>\n",
              "      <td>...</td>\n",
              "      <td>...</td>\n",
              "      <td>...</td>\n",
              "      <td>...</td>\n",
              "      <td>...</td>\n",
              "      <td>...</td>\n",
              "      <td>...</td>\n",
              "      <td>...</td>\n",
              "      <td>...</td>\n",
              "      <td>...</td>\n",
              "      <td>...</td>\n",
              "      <td>...</td>\n",
              "    </tr>\n",
              "    <tr>\n",
              "      <th>4537</th>\n",
              "      <td>-23.5365</td>\n",
              "      <td>-46.6332</td>\n",
              "      <td>124504</td>\n",
              "      <td>6</td>\n",
              "      <td>19</td>\n",
              "      <td>18</td>\n",
              "      <td>43</td>\n",
              "      <td>36</td>\n",
              "      <td>36</td>\n",
              "      <td>27</td>\n",
              "      <td>24</td>\n",
              "      <td>26.125</td>\n",
              "      <td>25.5</td>\n",
              "    </tr>\n",
              "    <tr>\n",
              "      <th>4538</th>\n",
              "      <td>-23.5365</td>\n",
              "      <td>-46.6332</td>\n",
              "      <td>126010</td>\n",
              "      <td>9</td>\n",
              "      <td>35</td>\n",
              "      <td>39</td>\n",
              "      <td>36</td>\n",
              "      <td>4</td>\n",
              "      <td>14</td>\n",
              "      <td>23</td>\n",
              "      <td>5</td>\n",
              "      <td>20.625</td>\n",
              "      <td>18.5</td>\n",
              "    </tr>\n",
              "    <tr>\n",
              "      <th>4539</th>\n",
              "      <td>-23.5365</td>\n",
              "      <td>-46.6332</td>\n",
              "      <td>126897</td>\n",
              "      <td>62</td>\n",
              "      <td>41</td>\n",
              "      <td>51</td>\n",
              "      <td>18</td>\n",
              "      <td>18</td>\n",
              "      <td>19</td>\n",
              "      <td>34</td>\n",
              "      <td>11</td>\n",
              "      <td>31.750</td>\n",
              "      <td>26.5</td>\n",
              "    </tr>\n",
              "    <tr>\n",
              "      <th>4540</th>\n",
              "      <td>-23.5813</td>\n",
              "      <td>-46.6383</td>\n",
              "      <td>67056</td>\n",
              "      <td>9</td>\n",
              "      <td>38</td>\n",
              "      <td>59</td>\n",
              "      <td>11</td>\n",
              "      <td>8</td>\n",
              "      <td>24</td>\n",
              "      <td>34</td>\n",
              "      <td>6</td>\n",
              "      <td>23.625</td>\n",
              "      <td>17.5</td>\n",
              "    </tr>\n",
              "    <tr>\n",
              "      <th>4541</th>\n",
              "      <td>-23.5813</td>\n",
              "      <td>-46.6383</td>\n",
              "      <td>67049</td>\n",
              "      <td>63</td>\n",
              "      <td>8</td>\n",
              "      <td>57</td>\n",
              "      <td>8</td>\n",
              "      <td>43</td>\n",
              "      <td>23</td>\n",
              "      <td>30</td>\n",
              "      <td>34</td>\n",
              "      <td>33.250</td>\n",
              "      <td>32.0</td>\n",
              "    </tr>\n",
              "  </tbody>\n",
              "</table>\n",
              "<p>4121 rows × 13 columns</p>\n",
              "</div>"
            ],
            "text/plain": [
              "          LAT     LONG  Movimentação  Original_473  Original_269  Zero  \\\n",
              "0    -23.6263 -46.6878         26322            45            58    16   \n",
              "1    -23.6263 -46.6878         26417            86            37    60   \n",
              "2    -23.6263 -46.6878         29141            45            18    29   \n",
              "3    -23.6263 -46.6878         30022            50            20    41   \n",
              "4    -23.6263 -46.6878         26113            86            23    35   \n",
              "...       ...      ...           ...           ...           ...   ...   \n",
              "4537 -23.5365 -46.6332        124504             6            19    18   \n",
              "4538 -23.5365 -46.6332        126010             9            35    39   \n",
              "4539 -23.5365 -46.6332        126897            62            41    51   \n",
              "4540 -23.5813 -46.6383         67056             9            38    59   \n",
              "4541 -23.5813 -46.6383         67049            63             8    57   \n",
              "\n",
              "      Maçã-Verde  Tangerina  Citrus  Açaí-Guaraná  Pêssego   Media  Mediana  \n",
              "0             38         35      37             3       24  32.000     36.0  \n",
              "1             25         20      22            34        6  36.250     29.5  \n",
              "2             23          4      18            30       43  26.250     26.0  \n",
              "3              8          3      27            36       28  26.625     27.5  \n",
              "4             43         32       9             9       18  31.875     27.5  \n",
              "...          ...        ...     ...           ...      ...     ...      ...  \n",
              "4537          43         36      36            27       24  26.125     25.5  \n",
              "4538          36          4      14            23        5  20.625     18.5  \n",
              "4539          18         18      19            34       11  31.750     26.5  \n",
              "4540          11          8      24            34        6  23.625     17.5  \n",
              "4541           8         43      23            30       34  33.250     32.0  \n",
              "\n",
              "[4121 rows x 13 columns]"
            ]
          },
          "metadata": {
            "tags": []
          },
          "execution_count": 243
        }
      ]
    },
    {
      "cell_type": "code",
      "metadata": {
        "id": "jMyMQgMlhmuh",
        "colab_type": "code",
        "colab": {}
      },
      "source": [
        "#feature selection\n",
        "selector = RFECV(estimator=RandomForestClassifier())"
      ],
      "execution_count": null,
      "outputs": []
    },
    {
      "cell_type": "code",
      "metadata": {
        "id": "xXB08MGmhwmh",
        "colab_type": "code",
        "colab": {
          "base_uri": "https://localhost:8080/",
          "height": 240
        },
        "outputId": "130c1079-fc6f-4f71-eb9c-39175dc30527"
      },
      "source": [
        "selector.fit(numericos, y)"
      ],
      "execution_count": null,
      "outputs": [
        {
          "output_type": "execute_result",
          "data": {
            "text/plain": [
              "RFECV(cv=None,\n",
              "      estimator=RandomForestClassifier(bootstrap=True, ccp_alpha=0.0,\n",
              "                                       class_weight=None, criterion='gini',\n",
              "                                       max_depth=None, max_features='auto',\n",
              "                                       max_leaf_nodes=None, max_samples=None,\n",
              "                                       min_impurity_decrease=0.0,\n",
              "                                       min_impurity_split=None,\n",
              "                                       min_samples_leaf=1, min_samples_split=2,\n",
              "                                       min_weight_fraction_leaf=0.0,\n",
              "                                       n_estimators=100, n_jobs=None,\n",
              "                                       oob_score=False, random_state=None,\n",
              "                                       verbose=0, warm_start=False),\n",
              "      min_features_to_select=1, n_jobs=None, scoring=None, step=1, verbose=0)"
            ]
          },
          "metadata": {
            "tags": []
          },
          "execution_count": 245
        }
      ]
    },
    {
      "cell_type": "code",
      "metadata": {
        "id": "KaZn-NV-iD9O",
        "colab_type": "code",
        "colab": {
          "base_uri": "https://localhost:8080/",
          "height": 51
        },
        "outputId": "ffaa5c5d-f7b3-4228-a8c6-4f1234f5cae7"
      },
      "source": [
        "selector.support_"
      ],
      "execution_count": null,
      "outputs": [
        {
          "output_type": "execute_result",
          "data": {
            "text/plain": [
              "array([False, False,  True,  True,  True,  True,  True,  True,  True,\n",
              "        True,  True,  True,  True])"
            ]
          },
          "metadata": {
            "tags": []
          },
          "execution_count": 246
        }
      ]
    },
    {
      "cell_type": "code",
      "metadata": {
        "id": "T_5r_krliAwc",
        "colab_type": "code",
        "colab": {}
      },
      "source": [
        "colunas = pd.DataFrame({'coluna':numericos.columns,\n",
        "              'bool': selector.support_})"
      ],
      "execution_count": null,
      "outputs": []
    },
    {
      "cell_type": "code",
      "metadata": {
        "id": "Gl7MPt59iNs5",
        "colab_type": "code",
        "colab": {}
      },
      "source": [
        "rfe_features = list(colunas.query('bool == True').coluna.values)"
      ],
      "execution_count": null,
      "outputs": []
    },
    {
      "cell_type": "code",
      "metadata": {
        "id": "EaKHs4u2j8El",
        "colab_type": "code",
        "colab": {
          "base_uri": "https://localhost:8080/",
          "height": 206
        },
        "outputId": "a9b20e55-83a4-46f9-ec89-1e4b9c458405"
      },
      "source": [
        "rfe_features"
      ],
      "execution_count": null,
      "outputs": [
        {
          "output_type": "execute_result",
          "data": {
            "text/plain": [
              "['Movimentação',\n",
              " 'Original_473',\n",
              " 'Original_269',\n",
              " 'Zero',\n",
              " 'Maçã-Verde',\n",
              " 'Tangerina',\n",
              " 'Citrus',\n",
              " 'Açaí-Guaraná',\n",
              " 'Pêssego',\n",
              " 'Media',\n",
              " 'Mediana']"
            ]
          },
          "metadata": {
            "tags": []
          },
          "execution_count": 249
        }
      ]
    },
    {
      "cell_type": "code",
      "metadata": {
        "id": "Kw6D2c9lQL-q",
        "colab_type": "code",
        "colab": {}
      },
      "source": [
        "X = dados[['Original_473',\n",
        " 'Original_269',\n",
        " 'Zero',\n",
        " 'Maçã-Verde',\n",
        " 'Tangerina',\n",
        " 'Citrus',\n",
        " 'Açaí-Guaraná',\n",
        " 'Pêssego',\n",
        " 'Media']]"
      ],
      "execution_count": null,
      "outputs": []
    },
    {
      "cell_type": "code",
      "metadata": {
        "id": "znT3auAKkzSK",
        "colab_type": "code",
        "colab": {
          "base_uri": "https://localhost:8080/",
          "height": 203
        },
        "outputId": "3de6d051-70d6-4b88-e385-b4306bd7e873"
      },
      "source": [
        "X.head()"
      ],
      "execution_count": null,
      "outputs": [
        {
          "output_type": "execute_result",
          "data": {
            "text/html": [
              "<div>\n",
              "<style scoped>\n",
              "    .dataframe tbody tr th:only-of-type {\n",
              "        vertical-align: middle;\n",
              "    }\n",
              "\n",
              "    .dataframe tbody tr th {\n",
              "        vertical-align: top;\n",
              "    }\n",
              "\n",
              "    .dataframe thead th {\n",
              "        text-align: right;\n",
              "    }\n",
              "</style>\n",
              "<table border=\"1\" class=\"dataframe\">\n",
              "  <thead>\n",
              "    <tr style=\"text-align: right;\">\n",
              "      <th></th>\n",
              "      <th>Original_473</th>\n",
              "      <th>Original_269</th>\n",
              "      <th>Zero</th>\n",
              "      <th>Maçã-Verde</th>\n",
              "      <th>Tangerina</th>\n",
              "      <th>Citrus</th>\n",
              "      <th>Açaí-Guaraná</th>\n",
              "      <th>Pêssego</th>\n",
              "      <th>Media</th>\n",
              "    </tr>\n",
              "  </thead>\n",
              "  <tbody>\n",
              "    <tr>\n",
              "      <th>0</th>\n",
              "      <td>45</td>\n",
              "      <td>58</td>\n",
              "      <td>16</td>\n",
              "      <td>38</td>\n",
              "      <td>35</td>\n",
              "      <td>37</td>\n",
              "      <td>3</td>\n",
              "      <td>24</td>\n",
              "      <td>32.000</td>\n",
              "    </tr>\n",
              "    <tr>\n",
              "      <th>1</th>\n",
              "      <td>86</td>\n",
              "      <td>37</td>\n",
              "      <td>60</td>\n",
              "      <td>25</td>\n",
              "      <td>20</td>\n",
              "      <td>22</td>\n",
              "      <td>34</td>\n",
              "      <td>6</td>\n",
              "      <td>36.250</td>\n",
              "    </tr>\n",
              "    <tr>\n",
              "      <th>2</th>\n",
              "      <td>45</td>\n",
              "      <td>18</td>\n",
              "      <td>29</td>\n",
              "      <td>23</td>\n",
              "      <td>4</td>\n",
              "      <td>18</td>\n",
              "      <td>30</td>\n",
              "      <td>43</td>\n",
              "      <td>26.250</td>\n",
              "    </tr>\n",
              "    <tr>\n",
              "      <th>3</th>\n",
              "      <td>50</td>\n",
              "      <td>20</td>\n",
              "      <td>41</td>\n",
              "      <td>8</td>\n",
              "      <td>3</td>\n",
              "      <td>27</td>\n",
              "      <td>36</td>\n",
              "      <td>28</td>\n",
              "      <td>26.625</td>\n",
              "    </tr>\n",
              "    <tr>\n",
              "      <th>4</th>\n",
              "      <td>86</td>\n",
              "      <td>23</td>\n",
              "      <td>35</td>\n",
              "      <td>43</td>\n",
              "      <td>32</td>\n",
              "      <td>9</td>\n",
              "      <td>9</td>\n",
              "      <td>18</td>\n",
              "      <td>31.875</td>\n",
              "    </tr>\n",
              "  </tbody>\n",
              "</table>\n",
              "</div>"
            ],
            "text/plain": [
              "   Original_473  Original_269  Zero  Maçã-Verde  Tangerina  Citrus  \\\n",
              "0            45            58    16          38         35      37   \n",
              "1            86            37    60          25         20      22   \n",
              "2            45            18    29          23          4      18   \n",
              "3            50            20    41           8          3      27   \n",
              "4            86            23    35          43         32       9   \n",
              "\n",
              "   Açaí-Guaraná  Pêssego   Media  \n",
              "0             3       24  32.000  \n",
              "1            34        6  36.250  \n",
              "2            30       43  26.250  \n",
              "3            36       28  26.625  \n",
              "4             9       18  31.875  "
            ]
          },
          "metadata": {
            "tags": []
          },
          "execution_count": 251
        }
      ]
    },
    {
      "cell_type": "code",
      "metadata": {
        "id": "AXjwTuQJQTFT",
        "colab_type": "code",
        "colab": {
          "base_uri": "https://localhost:8080/",
          "height": 223
        },
        "outputId": "535d1887-11be-452f-d620-b37d3ecb71b0"
      },
      "source": [
        "y"
      ],
      "execution_count": null,
      "outputs": [
        {
          "output_type": "execute_result",
          "data": {
            "text/plain": [
              "0       REABASTECER\n",
              "1       REABASTECER\n",
              "2            NORMAL\n",
              "3            NORMAL\n",
              "4            NORMAL\n",
              "           ...     \n",
              "4537    REABASTECER\n",
              "4538         NORMAL\n",
              "4539         NORMAL\n",
              "4540         NORMAL\n",
              "4541    REABASTECER\n",
              "Name: TARGET, Length: 4121, dtype: object"
            ]
          },
          "metadata": {
            "tags": []
          },
          "execution_count": 252
        }
      ]
    },
    {
      "cell_type": "code",
      "metadata": {
        "id": "4NyeieBRQYMz",
        "colab_type": "code",
        "colab": {}
      },
      "source": [
        "#!pip install pycaret"
      ],
      "execution_count": null,
      "outputs": []
    },
    {
      "cell_type": "code",
      "metadata": {
        "id": "l1gPSIwfcLVJ",
        "colab_type": "code",
        "colab": {
          "base_uri": "https://localhost:8080/",
          "height": 326
        },
        "outputId": "23421f95-22e0-4f78-b937-7695c9817808"
      },
      "source": [
        "#correlação\n",
        "X.corr()"
      ],
      "execution_count": null,
      "outputs": [
        {
          "output_type": "execute_result",
          "data": {
            "text/html": [
              "<div>\n",
              "<style scoped>\n",
              "    .dataframe tbody tr th:only-of-type {\n",
              "        vertical-align: middle;\n",
              "    }\n",
              "\n",
              "    .dataframe tbody tr th {\n",
              "        vertical-align: top;\n",
              "    }\n",
              "\n",
              "    .dataframe thead th {\n",
              "        text-align: right;\n",
              "    }\n",
              "</style>\n",
              "<table border=\"1\" class=\"dataframe\">\n",
              "  <thead>\n",
              "    <tr style=\"text-align: right;\">\n",
              "      <th></th>\n",
              "      <th>Original_473</th>\n",
              "      <th>Original_269</th>\n",
              "      <th>Zero</th>\n",
              "      <th>Maçã-Verde</th>\n",
              "      <th>Tangerina</th>\n",
              "      <th>Citrus</th>\n",
              "      <th>Açaí-Guaraná</th>\n",
              "      <th>Pêssego</th>\n",
              "      <th>Media</th>\n",
              "    </tr>\n",
              "  </thead>\n",
              "  <tbody>\n",
              "    <tr>\n",
              "      <th>Original_473</th>\n",
              "      <td>1.000000</td>\n",
              "      <td>0.015768</td>\n",
              "      <td>0.050094</td>\n",
              "      <td>0.020119</td>\n",
              "      <td>0.013702</td>\n",
              "      <td>-0.004258</td>\n",
              "      <td>0.024591</td>\n",
              "      <td>0.018822</td>\n",
              "      <td>0.578888</td>\n",
              "    </tr>\n",
              "    <tr>\n",
              "      <th>Original_269</th>\n",
              "      <td>0.015768</td>\n",
              "      <td>1.000000</td>\n",
              "      <td>-0.025232</td>\n",
              "      <td>-0.006893</td>\n",
              "      <td>0.020253</td>\n",
              "      <td>-0.016120</td>\n",
              "      <td>0.031249</td>\n",
              "      <td>-0.018357</td>\n",
              "      <td>0.389750</td>\n",
              "    </tr>\n",
              "    <tr>\n",
              "      <th>Zero</th>\n",
              "      <td>0.050094</td>\n",
              "      <td>-0.025232</td>\n",
              "      <td>1.000000</td>\n",
              "      <td>0.006784</td>\n",
              "      <td>0.009762</td>\n",
              "      <td>-0.018510</td>\n",
              "      <td>0.013018</td>\n",
              "      <td>-0.012891</td>\n",
              "      <td>0.415819</td>\n",
              "    </tr>\n",
              "    <tr>\n",
              "      <th>Maçã-Verde</th>\n",
              "      <td>0.020119</td>\n",
              "      <td>-0.006893</td>\n",
              "      <td>0.006784</td>\n",
              "      <td>1.000000</td>\n",
              "      <td>0.029693</td>\n",
              "      <td>0.041302</td>\n",
              "      <td>0.024086</td>\n",
              "      <td>0.035718</td>\n",
              "      <td>0.295852</td>\n",
              "    </tr>\n",
              "    <tr>\n",
              "      <th>Tangerina</th>\n",
              "      <td>0.013702</td>\n",
              "      <td>0.020253</td>\n",
              "      <td>0.009762</td>\n",
              "      <td>0.029693</td>\n",
              "      <td>1.000000</td>\n",
              "      <td>0.018710</td>\n",
              "      <td>0.012417</td>\n",
              "      <td>0.059007</td>\n",
              "      <td>0.304939</td>\n",
              "    </tr>\n",
              "    <tr>\n",
              "      <th>Citrus</th>\n",
              "      <td>-0.004258</td>\n",
              "      <td>-0.016120</td>\n",
              "      <td>-0.018510</td>\n",
              "      <td>0.041302</td>\n",
              "      <td>0.018710</td>\n",
              "      <td>1.000000</td>\n",
              "      <td>-0.003190</td>\n",
              "      <td>0.047513</td>\n",
              "      <td>0.261976</td>\n",
              "    </tr>\n",
              "    <tr>\n",
              "      <th>Açaí-Guaraná</th>\n",
              "      <td>0.024591</td>\n",
              "      <td>0.031249</td>\n",
              "      <td>0.013018</td>\n",
              "      <td>0.024086</td>\n",
              "      <td>0.012417</td>\n",
              "      <td>-0.003190</td>\n",
              "      <td>1.000000</td>\n",
              "      <td>0.042724</td>\n",
              "      <td>0.306012</td>\n",
              "    </tr>\n",
              "    <tr>\n",
              "      <th>Pêssego</th>\n",
              "      <td>0.018822</td>\n",
              "      <td>-0.018357</td>\n",
              "      <td>-0.012891</td>\n",
              "      <td>0.035718</td>\n",
              "      <td>0.059007</td>\n",
              "      <td>0.047513</td>\n",
              "      <td>0.042724</td>\n",
              "      <td>1.000000</td>\n",
              "      <td>0.300055</td>\n",
              "    </tr>\n",
              "    <tr>\n",
              "      <th>Media</th>\n",
              "      <td>0.578888</td>\n",
              "      <td>0.389750</td>\n",
              "      <td>0.415819</td>\n",
              "      <td>0.295852</td>\n",
              "      <td>0.304939</td>\n",
              "      <td>0.261976</td>\n",
              "      <td>0.306012</td>\n",
              "      <td>0.300055</td>\n",
              "      <td>1.000000</td>\n",
              "    </tr>\n",
              "  </tbody>\n",
              "</table>\n",
              "</div>"
            ],
            "text/plain": [
              "              Original_473  Original_269      Zero  Maçã-Verde  Tangerina  \\\n",
              "Original_473      1.000000      0.015768  0.050094    0.020119   0.013702   \n",
              "Original_269      0.015768      1.000000 -0.025232   -0.006893   0.020253   \n",
              "Zero              0.050094     -0.025232  1.000000    0.006784   0.009762   \n",
              "Maçã-Verde        0.020119     -0.006893  0.006784    1.000000   0.029693   \n",
              "Tangerina         0.013702      0.020253  0.009762    0.029693   1.000000   \n",
              "Citrus           -0.004258     -0.016120 -0.018510    0.041302   0.018710   \n",
              "Açaí-Guaraná      0.024591      0.031249  0.013018    0.024086   0.012417   \n",
              "Pêssego           0.018822     -0.018357 -0.012891    0.035718   0.059007   \n",
              "Media             0.578888      0.389750  0.415819    0.295852   0.304939   \n",
              "\n",
              "                Citrus  Açaí-Guaraná   Pêssego     Media  \n",
              "Original_473 -0.004258      0.024591  0.018822  0.578888  \n",
              "Original_269 -0.016120      0.031249 -0.018357  0.389750  \n",
              "Zero         -0.018510      0.013018 -0.012891  0.415819  \n",
              "Maçã-Verde    0.041302      0.024086  0.035718  0.295852  \n",
              "Tangerina     0.018710      0.012417  0.059007  0.304939  \n",
              "Citrus        1.000000     -0.003190  0.047513  0.261976  \n",
              "Açaí-Guaraná -0.003190      1.000000  0.042724  0.306012  \n",
              "Pêssego       0.047513      0.042724  1.000000  0.300055  \n",
              "Media         0.261976      0.306012  0.300055  1.000000  "
            ]
          },
          "metadata": {
            "tags": []
          },
          "execution_count": 254
        }
      ]
    },
    {
      "cell_type": "code",
      "metadata": {
        "id": "bNGdHvDdRmm5",
        "colab_type": "code",
        "colab": {}
      },
      "source": [
        "from pycaret.classification import *"
      ],
      "execution_count": null,
      "outputs": []
    },
    {
      "cell_type": "code",
      "metadata": {
        "id": "-lF_DFxgSAef",
        "colab_type": "code",
        "colab": {
          "base_uri": "https://localhost:8080/",
          "height": 936,
          "referenced_widgets": [
            "370e07ab6e60405385761ef8b05de62e",
            "c33efdaf027145e8825fba2e0d020798",
            "92ff2c870b3541e19690ff5fc5ed8f1c",
            "da250e9fa9d044ea9d5d69d5dc8115aa",
            "6cd48b3129c24b3db5fdf38ba4209ac7",
            "0e640a40378940e0a04b3569702ab377"
          ]
        },
        "outputId": "5d38fa81-97ab-46fa-f3bd-b6b79b11c0f4"
      },
      "source": [
        "ml_setup = setup(data=dados, target='TARGET', train_size=0.8, session_id=1234,                \n",
        "                 )"
      ],
      "execution_count": null,
      "outputs": [
        {
          "output_type": "stream",
          "text": [
            "Setup Succesfully Completed!\n"
          ],
          "name": "stdout"
        },
        {
          "output_type": "display_data",
          "data": {
            "text/html": [
              "<style  type=\"text/css\" >\n",
              "</style><table id=\"T_3e0dfe4e_eff9_11ea_8ff1_0242ac1c0002\" ><thead>    <tr>        <th class=\"blank level0\" ></th>        <th class=\"col_heading level0 col0\" >Description</th>        <th class=\"col_heading level0 col1\" >Value</th>    </tr></thead><tbody>\n",
              "                <tr>\n",
              "                        <th id=\"T_3e0dfe4e_eff9_11ea_8ff1_0242ac1c0002level0_row0\" class=\"row_heading level0 row0\" >0</th>\n",
              "                        <td id=\"T_3e0dfe4e_eff9_11ea_8ff1_0242ac1c0002row0_col0\" class=\"data row0 col0\" >session_id</td>\n",
              "                        <td id=\"T_3e0dfe4e_eff9_11ea_8ff1_0242ac1c0002row0_col1\" class=\"data row0 col1\" >1234</td>\n",
              "            </tr>\n",
              "            <tr>\n",
              "                        <th id=\"T_3e0dfe4e_eff9_11ea_8ff1_0242ac1c0002level0_row1\" class=\"row_heading level0 row1\" >1</th>\n",
              "                        <td id=\"T_3e0dfe4e_eff9_11ea_8ff1_0242ac1c0002row1_col0\" class=\"data row1 col0\" >Target Type</td>\n",
              "                        <td id=\"T_3e0dfe4e_eff9_11ea_8ff1_0242ac1c0002row1_col1\" class=\"data row1 col1\" >Binary</td>\n",
              "            </tr>\n",
              "            <tr>\n",
              "                        <th id=\"T_3e0dfe4e_eff9_11ea_8ff1_0242ac1c0002level0_row2\" class=\"row_heading level0 row2\" >2</th>\n",
              "                        <td id=\"T_3e0dfe4e_eff9_11ea_8ff1_0242ac1c0002row2_col0\" class=\"data row2 col0\" >Label Encoded</td>\n",
              "                        <td id=\"T_3e0dfe4e_eff9_11ea_8ff1_0242ac1c0002row2_col1\" class=\"data row2 col1\" >NORMAL: 0, REABASTECER: 1</td>\n",
              "            </tr>\n",
              "            <tr>\n",
              "                        <th id=\"T_3e0dfe4e_eff9_11ea_8ff1_0242ac1c0002level0_row3\" class=\"row_heading level0 row3\" >3</th>\n",
              "                        <td id=\"T_3e0dfe4e_eff9_11ea_8ff1_0242ac1c0002row3_col0\" class=\"data row3 col0\" >Original Data</td>\n",
              "                        <td id=\"T_3e0dfe4e_eff9_11ea_8ff1_0242ac1c0002row3_col1\" class=\"data row3 col1\" >(4121, 19)</td>\n",
              "            </tr>\n",
              "            <tr>\n",
              "                        <th id=\"T_3e0dfe4e_eff9_11ea_8ff1_0242ac1c0002level0_row4\" class=\"row_heading level0 row4\" >4</th>\n",
              "                        <td id=\"T_3e0dfe4e_eff9_11ea_8ff1_0242ac1c0002row4_col0\" class=\"data row4 col0\" >Missing Values </td>\n",
              "                        <td id=\"T_3e0dfe4e_eff9_11ea_8ff1_0242ac1c0002row4_col1\" class=\"data row4 col1\" >False</td>\n",
              "            </tr>\n",
              "            <tr>\n",
              "                        <th id=\"T_3e0dfe4e_eff9_11ea_8ff1_0242ac1c0002level0_row5\" class=\"row_heading level0 row5\" >5</th>\n",
              "                        <td id=\"T_3e0dfe4e_eff9_11ea_8ff1_0242ac1c0002row5_col0\" class=\"data row5 col0\" >Numeric Features </td>\n",
              "                        <td id=\"T_3e0dfe4e_eff9_11ea_8ff1_0242ac1c0002row5_col1\" class=\"data row5 col1\" >14</td>\n",
              "            </tr>\n",
              "            <tr>\n",
              "                        <th id=\"T_3e0dfe4e_eff9_11ea_8ff1_0242ac1c0002level0_row6\" class=\"row_heading level0 row6\" >6</th>\n",
              "                        <td id=\"T_3e0dfe4e_eff9_11ea_8ff1_0242ac1c0002row6_col0\" class=\"data row6 col0\" >Categorical Features </td>\n",
              "                        <td id=\"T_3e0dfe4e_eff9_11ea_8ff1_0242ac1c0002row6_col1\" class=\"data row6 col1\" >4</td>\n",
              "            </tr>\n",
              "            <tr>\n",
              "                        <th id=\"T_3e0dfe4e_eff9_11ea_8ff1_0242ac1c0002level0_row7\" class=\"row_heading level0 row7\" >7</th>\n",
              "                        <td id=\"T_3e0dfe4e_eff9_11ea_8ff1_0242ac1c0002row7_col0\" class=\"data row7 col0\" >Ordinal Features </td>\n",
              "                        <td id=\"T_3e0dfe4e_eff9_11ea_8ff1_0242ac1c0002row7_col1\" class=\"data row7 col1\" >False</td>\n",
              "            </tr>\n",
              "            <tr>\n",
              "                        <th id=\"T_3e0dfe4e_eff9_11ea_8ff1_0242ac1c0002level0_row8\" class=\"row_heading level0 row8\" >8</th>\n",
              "                        <td id=\"T_3e0dfe4e_eff9_11ea_8ff1_0242ac1c0002row8_col0\" class=\"data row8 col0\" >High Cardinality Features </td>\n",
              "                        <td id=\"T_3e0dfe4e_eff9_11ea_8ff1_0242ac1c0002row8_col1\" class=\"data row8 col1\" >False</td>\n",
              "            </tr>\n",
              "            <tr>\n",
              "                        <th id=\"T_3e0dfe4e_eff9_11ea_8ff1_0242ac1c0002level0_row9\" class=\"row_heading level0 row9\" >9</th>\n",
              "                        <td id=\"T_3e0dfe4e_eff9_11ea_8ff1_0242ac1c0002row9_col0\" class=\"data row9 col0\" >High Cardinality Method </td>\n",
              "                        <td id=\"T_3e0dfe4e_eff9_11ea_8ff1_0242ac1c0002row9_col1\" class=\"data row9 col1\" >None</td>\n",
              "            </tr>\n",
              "            <tr>\n",
              "                        <th id=\"T_3e0dfe4e_eff9_11ea_8ff1_0242ac1c0002level0_row10\" class=\"row_heading level0 row10\" >10</th>\n",
              "                        <td id=\"T_3e0dfe4e_eff9_11ea_8ff1_0242ac1c0002row10_col0\" class=\"data row10 col0\" >Sampled Data</td>\n",
              "                        <td id=\"T_3e0dfe4e_eff9_11ea_8ff1_0242ac1c0002row10_col1\" class=\"data row10 col1\" >(4121, 19)</td>\n",
              "            </tr>\n",
              "            <tr>\n",
              "                        <th id=\"T_3e0dfe4e_eff9_11ea_8ff1_0242ac1c0002level0_row11\" class=\"row_heading level0 row11\" >11</th>\n",
              "                        <td id=\"T_3e0dfe4e_eff9_11ea_8ff1_0242ac1c0002row11_col0\" class=\"data row11 col0\" >Transformed Train Set</td>\n",
              "                        <td id=\"T_3e0dfe4e_eff9_11ea_8ff1_0242ac1c0002row11_col1\" class=\"data row11 col1\" >(3296, 8999)</td>\n",
              "            </tr>\n",
              "            <tr>\n",
              "                        <th id=\"T_3e0dfe4e_eff9_11ea_8ff1_0242ac1c0002level0_row12\" class=\"row_heading level0 row12\" >12</th>\n",
              "                        <td id=\"T_3e0dfe4e_eff9_11ea_8ff1_0242ac1c0002row12_col0\" class=\"data row12 col0\" >Transformed Test Set</td>\n",
              "                        <td id=\"T_3e0dfe4e_eff9_11ea_8ff1_0242ac1c0002row12_col1\" class=\"data row12 col1\" >(825, 8999)</td>\n",
              "            </tr>\n",
              "            <tr>\n",
              "                        <th id=\"T_3e0dfe4e_eff9_11ea_8ff1_0242ac1c0002level0_row13\" class=\"row_heading level0 row13\" >13</th>\n",
              "                        <td id=\"T_3e0dfe4e_eff9_11ea_8ff1_0242ac1c0002row13_col0\" class=\"data row13 col0\" >Numeric Imputer </td>\n",
              "                        <td id=\"T_3e0dfe4e_eff9_11ea_8ff1_0242ac1c0002row13_col1\" class=\"data row13 col1\" >mean</td>\n",
              "            </tr>\n",
              "            <tr>\n",
              "                        <th id=\"T_3e0dfe4e_eff9_11ea_8ff1_0242ac1c0002level0_row14\" class=\"row_heading level0 row14\" >14</th>\n",
              "                        <td id=\"T_3e0dfe4e_eff9_11ea_8ff1_0242ac1c0002row14_col0\" class=\"data row14 col0\" >Categorical Imputer </td>\n",
              "                        <td id=\"T_3e0dfe4e_eff9_11ea_8ff1_0242ac1c0002row14_col1\" class=\"data row14 col1\" >constant</td>\n",
              "            </tr>\n",
              "            <tr>\n",
              "                        <th id=\"T_3e0dfe4e_eff9_11ea_8ff1_0242ac1c0002level0_row15\" class=\"row_heading level0 row15\" >15</th>\n",
              "                        <td id=\"T_3e0dfe4e_eff9_11ea_8ff1_0242ac1c0002row15_col0\" class=\"data row15 col0\" >Normalize </td>\n",
              "                        <td id=\"T_3e0dfe4e_eff9_11ea_8ff1_0242ac1c0002row15_col1\" class=\"data row15 col1\" >False</td>\n",
              "            </tr>\n",
              "            <tr>\n",
              "                        <th id=\"T_3e0dfe4e_eff9_11ea_8ff1_0242ac1c0002level0_row16\" class=\"row_heading level0 row16\" >16</th>\n",
              "                        <td id=\"T_3e0dfe4e_eff9_11ea_8ff1_0242ac1c0002row16_col0\" class=\"data row16 col0\" >Normalize Method </td>\n",
              "                        <td id=\"T_3e0dfe4e_eff9_11ea_8ff1_0242ac1c0002row16_col1\" class=\"data row16 col1\" >None</td>\n",
              "            </tr>\n",
              "            <tr>\n",
              "                        <th id=\"T_3e0dfe4e_eff9_11ea_8ff1_0242ac1c0002level0_row17\" class=\"row_heading level0 row17\" >17</th>\n",
              "                        <td id=\"T_3e0dfe4e_eff9_11ea_8ff1_0242ac1c0002row17_col0\" class=\"data row17 col0\" >Transformation </td>\n",
              "                        <td id=\"T_3e0dfe4e_eff9_11ea_8ff1_0242ac1c0002row17_col1\" class=\"data row17 col1\" >False</td>\n",
              "            </tr>\n",
              "            <tr>\n",
              "                        <th id=\"T_3e0dfe4e_eff9_11ea_8ff1_0242ac1c0002level0_row18\" class=\"row_heading level0 row18\" >18</th>\n",
              "                        <td id=\"T_3e0dfe4e_eff9_11ea_8ff1_0242ac1c0002row18_col0\" class=\"data row18 col0\" >Transformation Method </td>\n",
              "                        <td id=\"T_3e0dfe4e_eff9_11ea_8ff1_0242ac1c0002row18_col1\" class=\"data row18 col1\" >None</td>\n",
              "            </tr>\n",
              "            <tr>\n",
              "                        <th id=\"T_3e0dfe4e_eff9_11ea_8ff1_0242ac1c0002level0_row19\" class=\"row_heading level0 row19\" >19</th>\n",
              "                        <td id=\"T_3e0dfe4e_eff9_11ea_8ff1_0242ac1c0002row19_col0\" class=\"data row19 col0\" >PCA </td>\n",
              "                        <td id=\"T_3e0dfe4e_eff9_11ea_8ff1_0242ac1c0002row19_col1\" class=\"data row19 col1\" >False</td>\n",
              "            </tr>\n",
              "            <tr>\n",
              "                        <th id=\"T_3e0dfe4e_eff9_11ea_8ff1_0242ac1c0002level0_row20\" class=\"row_heading level0 row20\" >20</th>\n",
              "                        <td id=\"T_3e0dfe4e_eff9_11ea_8ff1_0242ac1c0002row20_col0\" class=\"data row20 col0\" >PCA Method </td>\n",
              "                        <td id=\"T_3e0dfe4e_eff9_11ea_8ff1_0242ac1c0002row20_col1\" class=\"data row20 col1\" >None</td>\n",
              "            </tr>\n",
              "            <tr>\n",
              "                        <th id=\"T_3e0dfe4e_eff9_11ea_8ff1_0242ac1c0002level0_row21\" class=\"row_heading level0 row21\" >21</th>\n",
              "                        <td id=\"T_3e0dfe4e_eff9_11ea_8ff1_0242ac1c0002row21_col0\" class=\"data row21 col0\" >PCA Components </td>\n",
              "                        <td id=\"T_3e0dfe4e_eff9_11ea_8ff1_0242ac1c0002row21_col1\" class=\"data row21 col1\" >None</td>\n",
              "            </tr>\n",
              "            <tr>\n",
              "                        <th id=\"T_3e0dfe4e_eff9_11ea_8ff1_0242ac1c0002level0_row22\" class=\"row_heading level0 row22\" >22</th>\n",
              "                        <td id=\"T_3e0dfe4e_eff9_11ea_8ff1_0242ac1c0002row22_col0\" class=\"data row22 col0\" >Ignore Low Variance </td>\n",
              "                        <td id=\"T_3e0dfe4e_eff9_11ea_8ff1_0242ac1c0002row22_col1\" class=\"data row22 col1\" >False</td>\n",
              "            </tr>\n",
              "            <tr>\n",
              "                        <th id=\"T_3e0dfe4e_eff9_11ea_8ff1_0242ac1c0002level0_row23\" class=\"row_heading level0 row23\" >23</th>\n",
              "                        <td id=\"T_3e0dfe4e_eff9_11ea_8ff1_0242ac1c0002row23_col0\" class=\"data row23 col0\" >Combine Rare Levels </td>\n",
              "                        <td id=\"T_3e0dfe4e_eff9_11ea_8ff1_0242ac1c0002row23_col1\" class=\"data row23 col1\" >False</td>\n",
              "            </tr>\n",
              "            <tr>\n",
              "                        <th id=\"T_3e0dfe4e_eff9_11ea_8ff1_0242ac1c0002level0_row24\" class=\"row_heading level0 row24\" >24</th>\n",
              "                        <td id=\"T_3e0dfe4e_eff9_11ea_8ff1_0242ac1c0002row24_col0\" class=\"data row24 col0\" >Rare Level Threshold </td>\n",
              "                        <td id=\"T_3e0dfe4e_eff9_11ea_8ff1_0242ac1c0002row24_col1\" class=\"data row24 col1\" >None</td>\n",
              "            </tr>\n",
              "            <tr>\n",
              "                        <th id=\"T_3e0dfe4e_eff9_11ea_8ff1_0242ac1c0002level0_row25\" class=\"row_heading level0 row25\" >25</th>\n",
              "                        <td id=\"T_3e0dfe4e_eff9_11ea_8ff1_0242ac1c0002row25_col0\" class=\"data row25 col0\" >Numeric Binning </td>\n",
              "                        <td id=\"T_3e0dfe4e_eff9_11ea_8ff1_0242ac1c0002row25_col1\" class=\"data row25 col1\" >False</td>\n",
              "            </tr>\n",
              "            <tr>\n",
              "                        <th id=\"T_3e0dfe4e_eff9_11ea_8ff1_0242ac1c0002level0_row26\" class=\"row_heading level0 row26\" >26</th>\n",
              "                        <td id=\"T_3e0dfe4e_eff9_11ea_8ff1_0242ac1c0002row26_col0\" class=\"data row26 col0\" >Remove Outliers </td>\n",
              "                        <td id=\"T_3e0dfe4e_eff9_11ea_8ff1_0242ac1c0002row26_col1\" class=\"data row26 col1\" >False</td>\n",
              "            </tr>\n",
              "            <tr>\n",
              "                        <th id=\"T_3e0dfe4e_eff9_11ea_8ff1_0242ac1c0002level0_row27\" class=\"row_heading level0 row27\" >27</th>\n",
              "                        <td id=\"T_3e0dfe4e_eff9_11ea_8ff1_0242ac1c0002row27_col0\" class=\"data row27 col0\" >Outliers Threshold </td>\n",
              "                        <td id=\"T_3e0dfe4e_eff9_11ea_8ff1_0242ac1c0002row27_col1\" class=\"data row27 col1\" >None</td>\n",
              "            </tr>\n",
              "            <tr>\n",
              "                        <th id=\"T_3e0dfe4e_eff9_11ea_8ff1_0242ac1c0002level0_row28\" class=\"row_heading level0 row28\" >28</th>\n",
              "                        <td id=\"T_3e0dfe4e_eff9_11ea_8ff1_0242ac1c0002row28_col0\" class=\"data row28 col0\" >Remove Multicollinearity </td>\n",
              "                        <td id=\"T_3e0dfe4e_eff9_11ea_8ff1_0242ac1c0002row28_col1\" class=\"data row28 col1\" >False</td>\n",
              "            </tr>\n",
              "            <tr>\n",
              "                        <th id=\"T_3e0dfe4e_eff9_11ea_8ff1_0242ac1c0002level0_row29\" class=\"row_heading level0 row29\" >29</th>\n",
              "                        <td id=\"T_3e0dfe4e_eff9_11ea_8ff1_0242ac1c0002row29_col0\" class=\"data row29 col0\" >Multicollinearity Threshold </td>\n",
              "                        <td id=\"T_3e0dfe4e_eff9_11ea_8ff1_0242ac1c0002row29_col1\" class=\"data row29 col1\" >None</td>\n",
              "            </tr>\n",
              "            <tr>\n",
              "                        <th id=\"T_3e0dfe4e_eff9_11ea_8ff1_0242ac1c0002level0_row30\" class=\"row_heading level0 row30\" >30</th>\n",
              "                        <td id=\"T_3e0dfe4e_eff9_11ea_8ff1_0242ac1c0002row30_col0\" class=\"data row30 col0\" >Clustering </td>\n",
              "                        <td id=\"T_3e0dfe4e_eff9_11ea_8ff1_0242ac1c0002row30_col1\" class=\"data row30 col1\" >False</td>\n",
              "            </tr>\n",
              "            <tr>\n",
              "                        <th id=\"T_3e0dfe4e_eff9_11ea_8ff1_0242ac1c0002level0_row31\" class=\"row_heading level0 row31\" >31</th>\n",
              "                        <td id=\"T_3e0dfe4e_eff9_11ea_8ff1_0242ac1c0002row31_col0\" class=\"data row31 col0\" >Clustering Iteration </td>\n",
              "                        <td id=\"T_3e0dfe4e_eff9_11ea_8ff1_0242ac1c0002row31_col1\" class=\"data row31 col1\" >None</td>\n",
              "            </tr>\n",
              "            <tr>\n",
              "                        <th id=\"T_3e0dfe4e_eff9_11ea_8ff1_0242ac1c0002level0_row32\" class=\"row_heading level0 row32\" >32</th>\n",
              "                        <td id=\"T_3e0dfe4e_eff9_11ea_8ff1_0242ac1c0002row32_col0\" class=\"data row32 col0\" >Polynomial Features </td>\n",
              "                        <td id=\"T_3e0dfe4e_eff9_11ea_8ff1_0242ac1c0002row32_col1\" class=\"data row32 col1\" >False</td>\n",
              "            </tr>\n",
              "            <tr>\n",
              "                        <th id=\"T_3e0dfe4e_eff9_11ea_8ff1_0242ac1c0002level0_row33\" class=\"row_heading level0 row33\" >33</th>\n",
              "                        <td id=\"T_3e0dfe4e_eff9_11ea_8ff1_0242ac1c0002row33_col0\" class=\"data row33 col0\" >Polynomial Degree </td>\n",
              "                        <td id=\"T_3e0dfe4e_eff9_11ea_8ff1_0242ac1c0002row33_col1\" class=\"data row33 col1\" >None</td>\n",
              "            </tr>\n",
              "            <tr>\n",
              "                        <th id=\"T_3e0dfe4e_eff9_11ea_8ff1_0242ac1c0002level0_row34\" class=\"row_heading level0 row34\" >34</th>\n",
              "                        <td id=\"T_3e0dfe4e_eff9_11ea_8ff1_0242ac1c0002row34_col0\" class=\"data row34 col0\" >Trignometry Features </td>\n",
              "                        <td id=\"T_3e0dfe4e_eff9_11ea_8ff1_0242ac1c0002row34_col1\" class=\"data row34 col1\" >False</td>\n",
              "            </tr>\n",
              "            <tr>\n",
              "                        <th id=\"T_3e0dfe4e_eff9_11ea_8ff1_0242ac1c0002level0_row35\" class=\"row_heading level0 row35\" >35</th>\n",
              "                        <td id=\"T_3e0dfe4e_eff9_11ea_8ff1_0242ac1c0002row35_col0\" class=\"data row35 col0\" >Polynomial Threshold </td>\n",
              "                        <td id=\"T_3e0dfe4e_eff9_11ea_8ff1_0242ac1c0002row35_col1\" class=\"data row35 col1\" >None</td>\n",
              "            </tr>\n",
              "            <tr>\n",
              "                        <th id=\"T_3e0dfe4e_eff9_11ea_8ff1_0242ac1c0002level0_row36\" class=\"row_heading level0 row36\" >36</th>\n",
              "                        <td id=\"T_3e0dfe4e_eff9_11ea_8ff1_0242ac1c0002row36_col0\" class=\"data row36 col0\" >Group Features </td>\n",
              "                        <td id=\"T_3e0dfe4e_eff9_11ea_8ff1_0242ac1c0002row36_col1\" class=\"data row36 col1\" >False</td>\n",
              "            </tr>\n",
              "            <tr>\n",
              "                        <th id=\"T_3e0dfe4e_eff9_11ea_8ff1_0242ac1c0002level0_row37\" class=\"row_heading level0 row37\" >37</th>\n",
              "                        <td id=\"T_3e0dfe4e_eff9_11ea_8ff1_0242ac1c0002row37_col0\" class=\"data row37 col0\" >Feature Selection </td>\n",
              "                        <td id=\"T_3e0dfe4e_eff9_11ea_8ff1_0242ac1c0002row37_col1\" class=\"data row37 col1\" >False</td>\n",
              "            </tr>\n",
              "            <tr>\n",
              "                        <th id=\"T_3e0dfe4e_eff9_11ea_8ff1_0242ac1c0002level0_row38\" class=\"row_heading level0 row38\" >38</th>\n",
              "                        <td id=\"T_3e0dfe4e_eff9_11ea_8ff1_0242ac1c0002row38_col0\" class=\"data row38 col0\" >Features Selection Threshold </td>\n",
              "                        <td id=\"T_3e0dfe4e_eff9_11ea_8ff1_0242ac1c0002row38_col1\" class=\"data row38 col1\" >None</td>\n",
              "            </tr>\n",
              "            <tr>\n",
              "                        <th id=\"T_3e0dfe4e_eff9_11ea_8ff1_0242ac1c0002level0_row39\" class=\"row_heading level0 row39\" >39</th>\n",
              "                        <td id=\"T_3e0dfe4e_eff9_11ea_8ff1_0242ac1c0002row39_col0\" class=\"data row39 col0\" >Feature Interaction </td>\n",
              "                        <td id=\"T_3e0dfe4e_eff9_11ea_8ff1_0242ac1c0002row39_col1\" class=\"data row39 col1\" >False</td>\n",
              "            </tr>\n",
              "            <tr>\n",
              "                        <th id=\"T_3e0dfe4e_eff9_11ea_8ff1_0242ac1c0002level0_row40\" class=\"row_heading level0 row40\" >40</th>\n",
              "                        <td id=\"T_3e0dfe4e_eff9_11ea_8ff1_0242ac1c0002row40_col0\" class=\"data row40 col0\" >Feature Ratio </td>\n",
              "                        <td id=\"T_3e0dfe4e_eff9_11ea_8ff1_0242ac1c0002row40_col1\" class=\"data row40 col1\" >False</td>\n",
              "            </tr>\n",
              "            <tr>\n",
              "                        <th id=\"T_3e0dfe4e_eff9_11ea_8ff1_0242ac1c0002level0_row41\" class=\"row_heading level0 row41\" >41</th>\n",
              "                        <td id=\"T_3e0dfe4e_eff9_11ea_8ff1_0242ac1c0002row41_col0\" class=\"data row41 col0\" >Interaction Threshold </td>\n",
              "                        <td id=\"T_3e0dfe4e_eff9_11ea_8ff1_0242ac1c0002row41_col1\" class=\"data row41 col1\" >None</td>\n",
              "            </tr>\n",
              "            <tr>\n",
              "                        <th id=\"T_3e0dfe4e_eff9_11ea_8ff1_0242ac1c0002level0_row42\" class=\"row_heading level0 row42\" >42</th>\n",
              "                        <td id=\"T_3e0dfe4e_eff9_11ea_8ff1_0242ac1c0002row42_col0\" class=\"data row42 col0\" >Fix Imbalance</td>\n",
              "                        <td id=\"T_3e0dfe4e_eff9_11ea_8ff1_0242ac1c0002row42_col1\" class=\"data row42 col1\" >False</td>\n",
              "            </tr>\n",
              "            <tr>\n",
              "                        <th id=\"T_3e0dfe4e_eff9_11ea_8ff1_0242ac1c0002level0_row43\" class=\"row_heading level0 row43\" >43</th>\n",
              "                        <td id=\"T_3e0dfe4e_eff9_11ea_8ff1_0242ac1c0002row43_col0\" class=\"data row43 col0\" >Fix Imbalance Method</td>\n",
              "                        <td id=\"T_3e0dfe4e_eff9_11ea_8ff1_0242ac1c0002row43_col1\" class=\"data row43 col1\" >SMOTE</td>\n",
              "            </tr>\n",
              "    </tbody></table>"
            ],
            "text/plain": [
              "<pandas.io.formats.style.Styler at 0x7f8d9b9d9438>"
            ]
          },
          "metadata": {
            "tags": []
          }
        }
      ]
    },
    {
      "cell_type": "code",
      "metadata": {
        "id": "wvh1HmgHSavr",
        "colab_type": "code",
        "colab": {
          "base_uri": "https://localhost:8080/",
          "height": 382,
          "referenced_widgets": [
            "c33776be61df446bb9d9f9dba8a4ff27",
            "c21b4d2239254bb0b434eb55f0bf7274",
            "61eb183e2b1a4fbbb810c5b6da096158"
          ]
        },
        "outputId": "6250827f-3600-45d6-f563-3c87b5a7f6a5"
      },
      "source": [
        "compare_models(fold=5,exclude=['svm','qda','lda'])"
      ],
      "execution_count": null,
      "outputs": [
        {
          "output_type": "display_data",
          "data": {
            "text/html": [
              "<style  type=\"text/css\" >\n",
              "    #T_a0baa616_effc_11ea_8ff1_0242ac1c0002 th {\n",
              "          text-align: left;\n",
              "    }    #T_a0baa616_effc_11ea_8ff1_0242ac1c0002row0_col0 {\n",
              "            text-align:  left;\n",
              "        }    #T_a0baa616_effc_11ea_8ff1_0242ac1c0002row0_col1 {\n",
              "            background-color:  yellow;\n",
              "            text-align:  left;\n",
              "        }    #T_a0baa616_effc_11ea_8ff1_0242ac1c0002row0_col2 {\n",
              "            : ;\n",
              "            text-align:  left;\n",
              "        }    #T_a0baa616_effc_11ea_8ff1_0242ac1c0002row0_col3 {\n",
              "            : ;\n",
              "            text-align:  left;\n",
              "        }    #T_a0baa616_effc_11ea_8ff1_0242ac1c0002row0_col4 {\n",
              "            : ;\n",
              "            text-align:  left;\n",
              "        }    #T_a0baa616_effc_11ea_8ff1_0242ac1c0002row0_col5 {\n",
              "            : ;\n",
              "            text-align:  left;\n",
              "        }    #T_a0baa616_effc_11ea_8ff1_0242ac1c0002row0_col6 {\n",
              "            : ;\n",
              "            text-align:  left;\n",
              "        }    #T_a0baa616_effc_11ea_8ff1_0242ac1c0002row0_col7 {\n",
              "            : ;\n",
              "            text-align:  left;\n",
              "        }    #T_a0baa616_effc_11ea_8ff1_0242ac1c0002row0_col8 {\n",
              "            background-color:  lightgrey;\n",
              "            text-align:  left;\n",
              "        }    #T_a0baa616_effc_11ea_8ff1_0242ac1c0002row1_col0 {\n",
              "            text-align:  left;\n",
              "        }    #T_a0baa616_effc_11ea_8ff1_0242ac1c0002row1_col1 {\n",
              "            : ;\n",
              "            text-align:  left;\n",
              "        }    #T_a0baa616_effc_11ea_8ff1_0242ac1c0002row1_col2 {\n",
              "            : ;\n",
              "            text-align:  left;\n",
              "        }    #T_a0baa616_effc_11ea_8ff1_0242ac1c0002row1_col3 {\n",
              "            background-color:  yellow;\n",
              "            text-align:  left;\n",
              "        }    #T_a0baa616_effc_11ea_8ff1_0242ac1c0002row1_col4 {\n",
              "            : ;\n",
              "            text-align:  left;\n",
              "        }    #T_a0baa616_effc_11ea_8ff1_0242ac1c0002row1_col5 {\n",
              "            background-color:  yellow;\n",
              "            text-align:  left;\n",
              "        }    #T_a0baa616_effc_11ea_8ff1_0242ac1c0002row1_col6 {\n",
              "            background-color:  yellow;\n",
              "            text-align:  left;\n",
              "        }    #T_a0baa616_effc_11ea_8ff1_0242ac1c0002row1_col7 {\n",
              "            background-color:  yellow;\n",
              "            text-align:  left;\n",
              "        }    #T_a0baa616_effc_11ea_8ff1_0242ac1c0002row1_col8 {\n",
              "            background-color:  lightgrey;\n",
              "            text-align:  left;\n",
              "        }    #T_a0baa616_effc_11ea_8ff1_0242ac1c0002row2_col0 {\n",
              "            text-align:  left;\n",
              "        }    #T_a0baa616_effc_11ea_8ff1_0242ac1c0002row2_col1 {\n",
              "            : ;\n",
              "            text-align:  left;\n",
              "        }    #T_a0baa616_effc_11ea_8ff1_0242ac1c0002row2_col2 {\n",
              "            background-color:  yellow;\n",
              "            text-align:  left;\n",
              "        }    #T_a0baa616_effc_11ea_8ff1_0242ac1c0002row2_col3 {\n",
              "            : ;\n",
              "            text-align:  left;\n",
              "        }    #T_a0baa616_effc_11ea_8ff1_0242ac1c0002row2_col4 {\n",
              "            background-color:  yellow;\n",
              "            text-align:  left;\n",
              "        }    #T_a0baa616_effc_11ea_8ff1_0242ac1c0002row2_col5 {\n",
              "            : ;\n",
              "            text-align:  left;\n",
              "        }    #T_a0baa616_effc_11ea_8ff1_0242ac1c0002row2_col6 {\n",
              "            : ;\n",
              "            text-align:  left;\n",
              "        }    #T_a0baa616_effc_11ea_8ff1_0242ac1c0002row2_col7 {\n",
              "            : ;\n",
              "            text-align:  left;\n",
              "        }    #T_a0baa616_effc_11ea_8ff1_0242ac1c0002row2_col8 {\n",
              "            background-color:  lightgrey;\n",
              "            text-align:  left;\n",
              "        }    #T_a0baa616_effc_11ea_8ff1_0242ac1c0002row3_col0 {\n",
              "            text-align:  left;\n",
              "        }    #T_a0baa616_effc_11ea_8ff1_0242ac1c0002row3_col1 {\n",
              "            : ;\n",
              "            text-align:  left;\n",
              "        }    #T_a0baa616_effc_11ea_8ff1_0242ac1c0002row3_col2 {\n",
              "            : ;\n",
              "            text-align:  left;\n",
              "        }    #T_a0baa616_effc_11ea_8ff1_0242ac1c0002row3_col3 {\n",
              "            : ;\n",
              "            text-align:  left;\n",
              "        }    #T_a0baa616_effc_11ea_8ff1_0242ac1c0002row3_col4 {\n",
              "            : ;\n",
              "            text-align:  left;\n",
              "        }    #T_a0baa616_effc_11ea_8ff1_0242ac1c0002row3_col5 {\n",
              "            : ;\n",
              "            text-align:  left;\n",
              "        }    #T_a0baa616_effc_11ea_8ff1_0242ac1c0002row3_col6 {\n",
              "            : ;\n",
              "            text-align:  left;\n",
              "        }    #T_a0baa616_effc_11ea_8ff1_0242ac1c0002row3_col7 {\n",
              "            : ;\n",
              "            text-align:  left;\n",
              "        }    #T_a0baa616_effc_11ea_8ff1_0242ac1c0002row3_col8 {\n",
              "            background-color:  lightgrey;\n",
              "            text-align:  left;\n",
              "        }    #T_a0baa616_effc_11ea_8ff1_0242ac1c0002row4_col0 {\n",
              "            text-align:  left;\n",
              "        }    #T_a0baa616_effc_11ea_8ff1_0242ac1c0002row4_col1 {\n",
              "            : ;\n",
              "            text-align:  left;\n",
              "        }    #T_a0baa616_effc_11ea_8ff1_0242ac1c0002row4_col2 {\n",
              "            : ;\n",
              "            text-align:  left;\n",
              "        }    #T_a0baa616_effc_11ea_8ff1_0242ac1c0002row4_col3 {\n",
              "            : ;\n",
              "            text-align:  left;\n",
              "        }    #T_a0baa616_effc_11ea_8ff1_0242ac1c0002row4_col4 {\n",
              "            : ;\n",
              "            text-align:  left;\n",
              "        }    #T_a0baa616_effc_11ea_8ff1_0242ac1c0002row4_col5 {\n",
              "            : ;\n",
              "            text-align:  left;\n",
              "        }    #T_a0baa616_effc_11ea_8ff1_0242ac1c0002row4_col6 {\n",
              "            : ;\n",
              "            text-align:  left;\n",
              "        }    #T_a0baa616_effc_11ea_8ff1_0242ac1c0002row4_col7 {\n",
              "            : ;\n",
              "            text-align:  left;\n",
              "        }    #T_a0baa616_effc_11ea_8ff1_0242ac1c0002row4_col8 {\n",
              "            background-color:  lightgrey;\n",
              "            text-align:  left;\n",
              "        }    #T_a0baa616_effc_11ea_8ff1_0242ac1c0002row5_col0 {\n",
              "            text-align:  left;\n",
              "        }    #T_a0baa616_effc_11ea_8ff1_0242ac1c0002row5_col1 {\n",
              "            : ;\n",
              "            text-align:  left;\n",
              "        }    #T_a0baa616_effc_11ea_8ff1_0242ac1c0002row5_col2 {\n",
              "            : ;\n",
              "            text-align:  left;\n",
              "        }    #T_a0baa616_effc_11ea_8ff1_0242ac1c0002row5_col3 {\n",
              "            : ;\n",
              "            text-align:  left;\n",
              "        }    #T_a0baa616_effc_11ea_8ff1_0242ac1c0002row5_col4 {\n",
              "            : ;\n",
              "            text-align:  left;\n",
              "        }    #T_a0baa616_effc_11ea_8ff1_0242ac1c0002row5_col5 {\n",
              "            : ;\n",
              "            text-align:  left;\n",
              "        }    #T_a0baa616_effc_11ea_8ff1_0242ac1c0002row5_col6 {\n",
              "            : ;\n",
              "            text-align:  left;\n",
              "        }    #T_a0baa616_effc_11ea_8ff1_0242ac1c0002row5_col7 {\n",
              "            : ;\n",
              "            text-align:  left;\n",
              "        }    #T_a0baa616_effc_11ea_8ff1_0242ac1c0002row5_col8 {\n",
              "            background-color:  lightgrey;\n",
              "            text-align:  left;\n",
              "        }    #T_a0baa616_effc_11ea_8ff1_0242ac1c0002row6_col0 {\n",
              "            text-align:  left;\n",
              "        }    #T_a0baa616_effc_11ea_8ff1_0242ac1c0002row6_col1 {\n",
              "            : ;\n",
              "            text-align:  left;\n",
              "        }    #T_a0baa616_effc_11ea_8ff1_0242ac1c0002row6_col2 {\n",
              "            : ;\n",
              "            text-align:  left;\n",
              "        }    #T_a0baa616_effc_11ea_8ff1_0242ac1c0002row6_col3 {\n",
              "            : ;\n",
              "            text-align:  left;\n",
              "        }    #T_a0baa616_effc_11ea_8ff1_0242ac1c0002row6_col4 {\n",
              "            : ;\n",
              "            text-align:  left;\n",
              "        }    #T_a0baa616_effc_11ea_8ff1_0242ac1c0002row6_col5 {\n",
              "            : ;\n",
              "            text-align:  left;\n",
              "        }    #T_a0baa616_effc_11ea_8ff1_0242ac1c0002row6_col6 {\n",
              "            : ;\n",
              "            text-align:  left;\n",
              "        }    #T_a0baa616_effc_11ea_8ff1_0242ac1c0002row6_col7 {\n",
              "            : ;\n",
              "            text-align:  left;\n",
              "        }    #T_a0baa616_effc_11ea_8ff1_0242ac1c0002row6_col8 {\n",
              "            background-color:  lightgrey;\n",
              "            text-align:  left;\n",
              "        }    #T_a0baa616_effc_11ea_8ff1_0242ac1c0002row7_col0 {\n",
              "            text-align:  left;\n",
              "        }    #T_a0baa616_effc_11ea_8ff1_0242ac1c0002row7_col1 {\n",
              "            : ;\n",
              "            text-align:  left;\n",
              "        }    #T_a0baa616_effc_11ea_8ff1_0242ac1c0002row7_col2 {\n",
              "            : ;\n",
              "            text-align:  left;\n",
              "        }    #T_a0baa616_effc_11ea_8ff1_0242ac1c0002row7_col3 {\n",
              "            : ;\n",
              "            text-align:  left;\n",
              "        }    #T_a0baa616_effc_11ea_8ff1_0242ac1c0002row7_col4 {\n",
              "            : ;\n",
              "            text-align:  left;\n",
              "        }    #T_a0baa616_effc_11ea_8ff1_0242ac1c0002row7_col5 {\n",
              "            : ;\n",
              "            text-align:  left;\n",
              "        }    #T_a0baa616_effc_11ea_8ff1_0242ac1c0002row7_col6 {\n",
              "            : ;\n",
              "            text-align:  left;\n",
              "        }    #T_a0baa616_effc_11ea_8ff1_0242ac1c0002row7_col7 {\n",
              "            : ;\n",
              "            text-align:  left;\n",
              "        }    #T_a0baa616_effc_11ea_8ff1_0242ac1c0002row7_col8 {\n",
              "            background-color:  lightgrey;\n",
              "            text-align:  left;\n",
              "        }    #T_a0baa616_effc_11ea_8ff1_0242ac1c0002row8_col0 {\n",
              "            text-align:  left;\n",
              "        }    #T_a0baa616_effc_11ea_8ff1_0242ac1c0002row8_col1 {\n",
              "            : ;\n",
              "            text-align:  left;\n",
              "        }    #T_a0baa616_effc_11ea_8ff1_0242ac1c0002row8_col2 {\n",
              "            : ;\n",
              "            text-align:  left;\n",
              "        }    #T_a0baa616_effc_11ea_8ff1_0242ac1c0002row8_col3 {\n",
              "            : ;\n",
              "            text-align:  left;\n",
              "        }    #T_a0baa616_effc_11ea_8ff1_0242ac1c0002row8_col4 {\n",
              "            : ;\n",
              "            text-align:  left;\n",
              "        }    #T_a0baa616_effc_11ea_8ff1_0242ac1c0002row8_col5 {\n",
              "            : ;\n",
              "            text-align:  left;\n",
              "        }    #T_a0baa616_effc_11ea_8ff1_0242ac1c0002row8_col6 {\n",
              "            : ;\n",
              "            text-align:  left;\n",
              "        }    #T_a0baa616_effc_11ea_8ff1_0242ac1c0002row8_col7 {\n",
              "            : ;\n",
              "            text-align:  left;\n",
              "        }    #T_a0baa616_effc_11ea_8ff1_0242ac1c0002row8_col8 {\n",
              "            background-color:  lightgrey;\n",
              "            text-align:  left;\n",
              "        }    #T_a0baa616_effc_11ea_8ff1_0242ac1c0002row9_col0 {\n",
              "            text-align:  left;\n",
              "        }    #T_a0baa616_effc_11ea_8ff1_0242ac1c0002row9_col1 {\n",
              "            : ;\n",
              "            text-align:  left;\n",
              "        }    #T_a0baa616_effc_11ea_8ff1_0242ac1c0002row9_col2 {\n",
              "            : ;\n",
              "            text-align:  left;\n",
              "        }    #T_a0baa616_effc_11ea_8ff1_0242ac1c0002row9_col3 {\n",
              "            : ;\n",
              "            text-align:  left;\n",
              "        }    #T_a0baa616_effc_11ea_8ff1_0242ac1c0002row9_col4 {\n",
              "            : ;\n",
              "            text-align:  left;\n",
              "        }    #T_a0baa616_effc_11ea_8ff1_0242ac1c0002row9_col5 {\n",
              "            : ;\n",
              "            text-align:  left;\n",
              "        }    #T_a0baa616_effc_11ea_8ff1_0242ac1c0002row9_col6 {\n",
              "            : ;\n",
              "            text-align:  left;\n",
              "        }    #T_a0baa616_effc_11ea_8ff1_0242ac1c0002row9_col7 {\n",
              "            : ;\n",
              "            text-align:  left;\n",
              "        }    #T_a0baa616_effc_11ea_8ff1_0242ac1c0002row9_col8 {\n",
              "            background-color:  lightgrey;\n",
              "            text-align:  left;\n",
              "        }    #T_a0baa616_effc_11ea_8ff1_0242ac1c0002row10_col0 {\n",
              "            text-align:  left;\n",
              "        }    #T_a0baa616_effc_11ea_8ff1_0242ac1c0002row10_col1 {\n",
              "            : ;\n",
              "            text-align:  left;\n",
              "        }    #T_a0baa616_effc_11ea_8ff1_0242ac1c0002row10_col2 {\n",
              "            : ;\n",
              "            text-align:  left;\n",
              "        }    #T_a0baa616_effc_11ea_8ff1_0242ac1c0002row10_col3 {\n",
              "            : ;\n",
              "            text-align:  left;\n",
              "        }    #T_a0baa616_effc_11ea_8ff1_0242ac1c0002row10_col4 {\n",
              "            : ;\n",
              "            text-align:  left;\n",
              "        }    #T_a0baa616_effc_11ea_8ff1_0242ac1c0002row10_col5 {\n",
              "            : ;\n",
              "            text-align:  left;\n",
              "        }    #T_a0baa616_effc_11ea_8ff1_0242ac1c0002row10_col6 {\n",
              "            : ;\n",
              "            text-align:  left;\n",
              "        }    #T_a0baa616_effc_11ea_8ff1_0242ac1c0002row10_col7 {\n",
              "            : ;\n",
              "            text-align:  left;\n",
              "        }    #T_a0baa616_effc_11ea_8ff1_0242ac1c0002row10_col8 {\n",
              "            background-color:  lightgrey;\n",
              "            text-align:  left;\n",
              "        }    #T_a0baa616_effc_11ea_8ff1_0242ac1c0002row11_col0 {\n",
              "            text-align:  left;\n",
              "        }    #T_a0baa616_effc_11ea_8ff1_0242ac1c0002row11_col1 {\n",
              "            : ;\n",
              "            text-align:  left;\n",
              "        }    #T_a0baa616_effc_11ea_8ff1_0242ac1c0002row11_col2 {\n",
              "            : ;\n",
              "            text-align:  left;\n",
              "        }    #T_a0baa616_effc_11ea_8ff1_0242ac1c0002row11_col3 {\n",
              "            : ;\n",
              "            text-align:  left;\n",
              "        }    #T_a0baa616_effc_11ea_8ff1_0242ac1c0002row11_col4 {\n",
              "            : ;\n",
              "            text-align:  left;\n",
              "        }    #T_a0baa616_effc_11ea_8ff1_0242ac1c0002row11_col5 {\n",
              "            : ;\n",
              "            text-align:  left;\n",
              "        }    #T_a0baa616_effc_11ea_8ff1_0242ac1c0002row11_col6 {\n",
              "            : ;\n",
              "            text-align:  left;\n",
              "        }    #T_a0baa616_effc_11ea_8ff1_0242ac1c0002row11_col7 {\n",
              "            : ;\n",
              "            text-align:  left;\n",
              "        }    #T_a0baa616_effc_11ea_8ff1_0242ac1c0002row11_col8 {\n",
              "            background-color:  lightgrey;\n",
              "            text-align:  left;\n",
              "        }</style><table id=\"T_a0baa616_effc_11ea_8ff1_0242ac1c0002\" ><thead>    <tr>        <th class=\"blank level0\" ></th>        <th class=\"col_heading level0 col0\" >Model</th>        <th class=\"col_heading level0 col1\" >Accuracy</th>        <th class=\"col_heading level0 col2\" >AUC</th>        <th class=\"col_heading level0 col3\" >Recall</th>        <th class=\"col_heading level0 col4\" >Prec.</th>        <th class=\"col_heading level0 col5\" >F1</th>        <th class=\"col_heading level0 col6\" >Kappa</th>        <th class=\"col_heading level0 col7\" >MCC</th>        <th class=\"col_heading level0 col8\" >TT (Sec)</th>    </tr></thead><tbody>\n",
              "                <tr>\n",
              "                        <th id=\"T_a0baa616_effc_11ea_8ff1_0242ac1c0002level0_row0\" class=\"row_heading level0 row0\" >0</th>\n",
              "                        <td id=\"T_a0baa616_effc_11ea_8ff1_0242ac1c0002row0_col0\" class=\"data row0 col0\" >Decision Tree Classifier</td>\n",
              "                        <td id=\"T_a0baa616_effc_11ea_8ff1_0242ac1c0002row0_col1\" class=\"data row0 col1\" >0.7506</td>\n",
              "                        <td id=\"T_a0baa616_effc_11ea_8ff1_0242ac1c0002row0_col2\" class=\"data row0 col2\" >0.7205</td>\n",
              "                        <td id=\"T_a0baa616_effc_11ea_8ff1_0242ac1c0002row0_col3\" class=\"data row0 col3\" >0.6336</td>\n",
              "                        <td id=\"T_a0baa616_effc_11ea_8ff1_0242ac1c0002row0_col4\" class=\"data row0 col4\" >0.6156</td>\n",
              "                        <td id=\"T_a0baa616_effc_11ea_8ff1_0242ac1c0002row0_col5\" class=\"data row0 col5\" >0.6235</td>\n",
              "                        <td id=\"T_a0baa616_effc_11ea_8ff1_0242ac1c0002row0_col6\" class=\"data row0 col6\" >0.4373</td>\n",
              "                        <td id=\"T_a0baa616_effc_11ea_8ff1_0242ac1c0002row0_col7\" class=\"data row0 col7\" >0.4382</td>\n",
              "                        <td id=\"T_a0baa616_effc_11ea_8ff1_0242ac1c0002row0_col8\" class=\"data row0 col8\" >0.5407</td>\n",
              "            </tr>\n",
              "            <tr>\n",
              "                        <th id=\"T_a0baa616_effc_11ea_8ff1_0242ac1c0002level0_row1\" class=\"row_heading level0 row1\" >1</th>\n",
              "                        <td id=\"T_a0baa616_effc_11ea_8ff1_0242ac1c0002row1_col0\" class=\"data row1 col0\" >Light Gradient Boosting Machine</td>\n",
              "                        <td id=\"T_a0baa616_effc_11ea_8ff1_0242ac1c0002row1_col1\" class=\"data row1 col1\" >0.7491</td>\n",
              "                        <td id=\"T_a0baa616_effc_11ea_8ff1_0242ac1c0002row1_col2\" class=\"data row1 col2\" >0.8411</td>\n",
              "                        <td id=\"T_a0baa616_effc_11ea_8ff1_0242ac1c0002row1_col3\" class=\"data row1 col3\" >0.6698</td>\n",
              "                        <td id=\"T_a0baa616_effc_11ea_8ff1_0242ac1c0002row1_col4\" class=\"data row1 col4\" >0.6053</td>\n",
              "                        <td id=\"T_a0baa616_effc_11ea_8ff1_0242ac1c0002row1_col5\" class=\"data row1 col5\" >0.6356</td>\n",
              "                        <td id=\"T_a0baa616_effc_11ea_8ff1_0242ac1c0002row1_col6\" class=\"data row1 col6\" >0.4451</td>\n",
              "                        <td id=\"T_a0baa616_effc_11ea_8ff1_0242ac1c0002row1_col7\" class=\"data row1 col7\" >0.4467</td>\n",
              "                        <td id=\"T_a0baa616_effc_11ea_8ff1_0242ac1c0002row1_col8\" class=\"data row1 col8\" >0.7186</td>\n",
              "            </tr>\n",
              "            <tr>\n",
              "                        <th id=\"T_a0baa616_effc_11ea_8ff1_0242ac1c0002level0_row2\" class=\"row_heading level0 row2\" >2</th>\n",
              "                        <td id=\"T_a0baa616_effc_11ea_8ff1_0242ac1c0002row2_col0\" class=\"data row2 col0\" >CatBoost Classifier</td>\n",
              "                        <td id=\"T_a0baa616_effc_11ea_8ff1_0242ac1c0002row2_col1\" class=\"data row2 col1\" >0.7482</td>\n",
              "                        <td id=\"T_a0baa616_effc_11ea_8ff1_0242ac1c0002row2_col2\" class=\"data row2 col2\" >0.8458</td>\n",
              "                        <td id=\"T_a0baa616_effc_11ea_8ff1_0242ac1c0002row2_col3\" class=\"data row2 col3\" >0.6021</td>\n",
              "                        <td id=\"T_a0baa616_effc_11ea_8ff1_0242ac1c0002row2_col4\" class=\"data row2 col4\" >0.6179</td>\n",
              "                        <td id=\"T_a0baa616_effc_11ea_8ff1_0242ac1c0002row2_col5\" class=\"data row2 col5\" >0.6095</td>\n",
              "                        <td id=\"T_a0baa616_effc_11ea_8ff1_0242ac1c0002row2_col6\" class=\"data row2 col6\" >0.4239</td>\n",
              "                        <td id=\"T_a0baa616_effc_11ea_8ff1_0242ac1c0002row2_col7\" class=\"data row2 col7\" >0.4242</td>\n",
              "                        <td id=\"T_a0baa616_effc_11ea_8ff1_0242ac1c0002row2_col8\" class=\"data row2 col8\" >23.3962</td>\n",
              "            </tr>\n",
              "            <tr>\n",
              "                        <th id=\"T_a0baa616_effc_11ea_8ff1_0242ac1c0002level0_row3\" class=\"row_heading level0 row3\" >3</th>\n",
              "                        <td id=\"T_a0baa616_effc_11ea_8ff1_0242ac1c0002row3_col0\" class=\"data row3 col0\" >Gradient Boosting Classifier</td>\n",
              "                        <td id=\"T_a0baa616_effc_11ea_8ff1_0242ac1c0002row3_col1\" class=\"data row3 col1\" >0.7330</td>\n",
              "                        <td id=\"T_a0baa616_effc_11ea_8ff1_0242ac1c0002row3_col2\" class=\"data row3 col2\" >0.8455</td>\n",
              "                        <td id=\"T_a0baa616_effc_11ea_8ff1_0242ac1c0002row3_col3\" class=\"data row3 col3\" >0.4852</td>\n",
              "                        <td id=\"T_a0baa616_effc_11ea_8ff1_0242ac1c0002row3_col4\" class=\"data row3 col4\" >0.6163</td>\n",
              "                        <td id=\"T_a0baa616_effc_11ea_8ff1_0242ac1c0002row3_col5\" class=\"data row3 col5\" >0.5428</td>\n",
              "                        <td id=\"T_a0baa616_effc_11ea_8ff1_0242ac1c0002row3_col6\" class=\"data row3 col6\" >0.3581</td>\n",
              "                        <td id=\"T_a0baa616_effc_11ea_8ff1_0242ac1c0002row3_col7\" class=\"data row3 col7\" >0.3633</td>\n",
              "                        <td id=\"T_a0baa616_effc_11ea_8ff1_0242ac1c0002row3_col8\" class=\"data row3 col8\" >21.9503</td>\n",
              "            </tr>\n",
              "            <tr>\n",
              "                        <th id=\"T_a0baa616_effc_11ea_8ff1_0242ac1c0002level0_row4\" class=\"row_heading level0 row4\" >4</th>\n",
              "                        <td id=\"T_a0baa616_effc_11ea_8ff1_0242ac1c0002row4_col0\" class=\"data row4 col0\" >Extreme Gradient Boosting</td>\n",
              "                        <td id=\"T_a0baa616_effc_11ea_8ff1_0242ac1c0002row4_col1\" class=\"data row4 col1\" >0.7303</td>\n",
              "                        <td id=\"T_a0baa616_effc_11ea_8ff1_0242ac1c0002row4_col2\" class=\"data row4 col2\" >0.8456</td>\n",
              "                        <td id=\"T_a0baa616_effc_11ea_8ff1_0242ac1c0002row4_col3\" class=\"data row4 col3\" >0.4778</td>\n",
              "                        <td id=\"T_a0baa616_effc_11ea_8ff1_0242ac1c0002row4_col4\" class=\"data row4 col4\" >0.6128</td>\n",
              "                        <td id=\"T_a0baa616_effc_11ea_8ff1_0242ac1c0002row4_col5\" class=\"data row4 col5\" >0.5362</td>\n",
              "                        <td id=\"T_a0baa616_effc_11ea_8ff1_0242ac1c0002row4_col6\" class=\"data row4 col6\" >0.3504</td>\n",
              "                        <td id=\"T_a0baa616_effc_11ea_8ff1_0242ac1c0002row4_col7\" class=\"data row4 col7\" >0.3561</td>\n",
              "                        <td id=\"T_a0baa616_effc_11ea_8ff1_0242ac1c0002row4_col8\" class=\"data row4 col8\" >35.5614</td>\n",
              "            </tr>\n",
              "            <tr>\n",
              "                        <th id=\"T_a0baa616_effc_11ea_8ff1_0242ac1c0002level0_row5\" class=\"row_heading level0 row5\" >5</th>\n",
              "                        <td id=\"T_a0baa616_effc_11ea_8ff1_0242ac1c0002row5_col0\" class=\"data row5 col0\" >Ada Boost Classifier</td>\n",
              "                        <td id=\"T_a0baa616_effc_11ea_8ff1_0242ac1c0002row5_col1\" class=\"data row5 col1\" >0.7184</td>\n",
              "                        <td id=\"T_a0baa616_effc_11ea_8ff1_0242ac1c0002row5_col2\" class=\"data row5 col2\" >0.8307</td>\n",
              "                        <td id=\"T_a0baa616_effc_11ea_8ff1_0242ac1c0002row5_col3\" class=\"data row5 col3\" >0.3804</td>\n",
              "                        <td id=\"T_a0baa616_effc_11ea_8ff1_0242ac1c0002row5_col4\" class=\"data row5 col4\" >0.6108</td>\n",
              "                        <td id=\"T_a0baa616_effc_11ea_8ff1_0242ac1c0002row5_col5\" class=\"data row5 col5\" >0.4685</td>\n",
              "                        <td id=\"T_a0baa616_effc_11ea_8ff1_0242ac1c0002row5_col6\" class=\"data row5 col6\" >0.2912</td>\n",
              "                        <td id=\"T_a0baa616_effc_11ea_8ff1_0242ac1c0002row5_col7\" class=\"data row5 col7\" >0.3062</td>\n",
              "                        <td id=\"T_a0baa616_effc_11ea_8ff1_0242ac1c0002row5_col8\" class=\"data row5 col8\" >9.9523</td>\n",
              "            </tr>\n",
              "            <tr>\n",
              "                        <th id=\"T_a0baa616_effc_11ea_8ff1_0242ac1c0002level0_row6\" class=\"row_heading level0 row6\" >6</th>\n",
              "                        <td id=\"T_a0baa616_effc_11ea_8ff1_0242ac1c0002row6_col0\" class=\"data row6 col0\" >Random Forest Classifier</td>\n",
              "                        <td id=\"T_a0baa616_effc_11ea_8ff1_0242ac1c0002row6_col1\" class=\"data row6 col1\" >0.7051</td>\n",
              "                        <td id=\"T_a0baa616_effc_11ea_8ff1_0242ac1c0002row6_col2\" class=\"data row6 col2\" >0.7980</td>\n",
              "                        <td id=\"T_a0baa616_effc_11ea_8ff1_0242ac1c0002row6_col3\" class=\"data row6 col3\" >0.2746</td>\n",
              "                        <td id=\"T_a0baa616_effc_11ea_8ff1_0242ac1c0002row6_col4\" class=\"data row6 col4\" >0.6043</td>\n",
              "                        <td id=\"T_a0baa616_effc_11ea_8ff1_0242ac1c0002row6_col5\" class=\"data row6 col5\" >0.3770</td>\n",
              "                        <td id=\"T_a0baa616_effc_11ea_8ff1_0242ac1c0002row6_col6\" class=\"data row6 col6\" >0.2194</td>\n",
              "                        <td id=\"T_a0baa616_effc_11ea_8ff1_0242ac1c0002row6_col7\" class=\"data row6 col7\" >0.2482</td>\n",
              "                        <td id=\"T_a0baa616_effc_11ea_8ff1_0242ac1c0002row6_col8\" class=\"data row6 col8\" >0.7111</td>\n",
              "            </tr>\n",
              "            <tr>\n",
              "                        <th id=\"T_a0baa616_effc_11ea_8ff1_0242ac1c0002level0_row7\" class=\"row_heading level0 row7\" >7</th>\n",
              "                        <td id=\"T_a0baa616_effc_11ea_8ff1_0242ac1c0002row7_col0\" class=\"data row7 col0\" >Logistic Regression</td>\n",
              "                        <td id=\"T_a0baa616_effc_11ea_8ff1_0242ac1c0002row7_col1\" class=\"data row7 col1\" >0.6775</td>\n",
              "                        <td id=\"T_a0baa616_effc_11ea_8ff1_0242ac1c0002row7_col2\" class=\"data row7 col2\" >0.6748</td>\n",
              "                        <td id=\"T_a0baa616_effc_11ea_8ff1_0242ac1c0002row7_col3\" class=\"data row7 col3\" >0.1921</td>\n",
              "                        <td id=\"T_a0baa616_effc_11ea_8ff1_0242ac1c0002row7_col4\" class=\"data row7 col4\" >0.5168</td>\n",
              "                        <td id=\"T_a0baa616_effc_11ea_8ff1_0242ac1c0002row7_col5\" class=\"data row7 col5\" >0.2792</td>\n",
              "                        <td id=\"T_a0baa616_effc_11ea_8ff1_0242ac1c0002row7_col6\" class=\"data row7 col6\" >0.1256</td>\n",
              "                        <td id=\"T_a0baa616_effc_11ea_8ff1_0242ac1c0002row7_col7\" class=\"data row7 col7\" >0.1509</td>\n",
              "                        <td id=\"T_a0baa616_effc_11ea_8ff1_0242ac1c0002row7_col8\" class=\"data row7 col8\" >3.5117</td>\n",
              "            </tr>\n",
              "            <tr>\n",
              "                        <th id=\"T_a0baa616_effc_11ea_8ff1_0242ac1c0002level0_row8\" class=\"row_heading level0 row8\" >8</th>\n",
              "                        <td id=\"T_a0baa616_effc_11ea_8ff1_0242ac1c0002row8_col0\" class=\"data row8 col0\" >Naive Bayes</td>\n",
              "                        <td id=\"T_a0baa616_effc_11ea_8ff1_0242ac1c0002row8_col1\" class=\"data row8 col1\" >0.6763</td>\n",
              "                        <td id=\"T_a0baa616_effc_11ea_8ff1_0242ac1c0002row8_col2\" class=\"data row8 col2\" >0.6932</td>\n",
              "                        <td id=\"T_a0baa616_effc_11ea_8ff1_0242ac1c0002row8_col3\" class=\"data row8 col3\" >0.4565</td>\n",
              "                        <td id=\"T_a0baa616_effc_11ea_8ff1_0242ac1c0002row8_col4\" class=\"data row8 col4\" >0.5059</td>\n",
              "                        <td id=\"T_a0baa616_effc_11ea_8ff1_0242ac1c0002row8_col5\" class=\"data row8 col5\" >0.4793</td>\n",
              "                        <td id=\"T_a0baa616_effc_11ea_8ff1_0242ac1c0002row8_col6\" class=\"data row8 col6\" >0.2456</td>\n",
              "                        <td id=\"T_a0baa616_effc_11ea_8ff1_0242ac1c0002row8_col7\" class=\"data row8 col7\" >0.2466</td>\n",
              "                        <td id=\"T_a0baa616_effc_11ea_8ff1_0242ac1c0002row8_col8\" class=\"data row8 col8\" >0.4017</td>\n",
              "            </tr>\n",
              "            <tr>\n",
              "                        <th id=\"T_a0baa616_effc_11ea_8ff1_0242ac1c0002level0_row9\" class=\"row_heading level0 row9\" >9</th>\n",
              "                        <td id=\"T_a0baa616_effc_11ea_8ff1_0242ac1c0002row9_col0\" class=\"data row9 col0\" >Extra Trees Classifier</td>\n",
              "                        <td id=\"T_a0baa616_effc_11ea_8ff1_0242ac1c0002row9_col1\" class=\"data row9 col1\" >0.6738</td>\n",
              "                        <td id=\"T_a0baa616_effc_11ea_8ff1_0242ac1c0002row9_col2\" class=\"data row9 col2\" >0.7456</td>\n",
              "                        <td id=\"T_a0baa616_effc_11ea_8ff1_0242ac1c0002row9_col3\" class=\"data row9 col3\" >0.0380</td>\n",
              "                        <td id=\"T_a0baa616_effc_11ea_8ff1_0242ac1c0002row9_col4\" class=\"data row9 col4\" >0.5387</td>\n",
              "                        <td id=\"T_a0baa616_effc_11ea_8ff1_0242ac1c0002row9_col5\" class=\"data row9 col5\" >0.0709</td>\n",
              "                        <td id=\"T_a0baa616_effc_11ea_8ff1_0242ac1c0002row9_col6\" class=\"data row9 col6\" >0.0275</td>\n",
              "                        <td id=\"T_a0baa616_effc_11ea_8ff1_0242ac1c0002row9_col7\" class=\"data row9 col7\" >0.0670</td>\n",
              "                        <td id=\"T_a0baa616_effc_11ea_8ff1_0242ac1c0002row9_col8\" class=\"data row9 col8\" >8.4841</td>\n",
              "            </tr>\n",
              "            <tr>\n",
              "                        <th id=\"T_a0baa616_effc_11ea_8ff1_0242ac1c0002level0_row10\" class=\"row_heading level0 row10\" >10</th>\n",
              "                        <td id=\"T_a0baa616_effc_11ea_8ff1_0242ac1c0002row10_col0\" class=\"data row10 col0\" >Ridge Classifier</td>\n",
              "                        <td id=\"T_a0baa616_effc_11ea_8ff1_0242ac1c0002row10_col1\" class=\"data row10 col1\" >0.6575</td>\n",
              "                        <td id=\"T_a0baa616_effc_11ea_8ff1_0242ac1c0002row10_col2\" class=\"data row10 col2\" >0.0000</td>\n",
              "                        <td id=\"T_a0baa616_effc_11ea_8ff1_0242ac1c0002row10_col3\" class=\"data row10 col3\" >0.2625</td>\n",
              "                        <td id=\"T_a0baa616_effc_11ea_8ff1_0242ac1c0002row10_col4\" class=\"data row10 col4\" >0.4594</td>\n",
              "                        <td id=\"T_a0baa616_effc_11ea_8ff1_0242ac1c0002row10_col5\" class=\"data row10 col5\" >0.3338</td>\n",
              "                        <td id=\"T_a0baa616_effc_11ea_8ff1_0242ac1c0002row10_col6\" class=\"data row10 col6\" >0.1258</td>\n",
              "                        <td id=\"T_a0baa616_effc_11ea_8ff1_0242ac1c0002row10_col7\" class=\"data row10 col7\" >0.1349</td>\n",
              "                        <td id=\"T_a0baa616_effc_11ea_8ff1_0242ac1c0002row10_col8\" class=\"data row10 col8\" >2.7858</td>\n",
              "            </tr>\n",
              "            <tr>\n",
              "                        <th id=\"T_a0baa616_effc_11ea_8ff1_0242ac1c0002level0_row11\" class=\"row_heading level0 row11\" >11</th>\n",
              "                        <td id=\"T_a0baa616_effc_11ea_8ff1_0242ac1c0002row11_col0\" class=\"data row11 col0\" >K Neighbors Classifier</td>\n",
              "                        <td id=\"T_a0baa616_effc_11ea_8ff1_0242ac1c0002row11_col1\" class=\"data row11 col1\" >0.6004</td>\n",
              "                        <td id=\"T_a0baa616_effc_11ea_8ff1_0242ac1c0002row11_col2\" class=\"data row11 col2\" >0.5100</td>\n",
              "                        <td id=\"T_a0baa616_effc_11ea_8ff1_0242ac1c0002row11_col3\" class=\"data row11 col3\" >0.2180</td>\n",
              "                        <td id=\"T_a0baa616_effc_11ea_8ff1_0242ac1c0002row11_col4\" class=\"data row11 col4\" >0.3328</td>\n",
              "                        <td id=\"T_a0baa616_effc_11ea_8ff1_0242ac1c0002row11_col5\" class=\"data row11 col5\" >0.2631</td>\n",
              "                        <td id=\"T_a0baa616_effc_11ea_8ff1_0242ac1c0002row11_col6\" class=\"data row11 col6\" >0.0050</td>\n",
              "                        <td id=\"T_a0baa616_effc_11ea_8ff1_0242ac1c0002row11_col7\" class=\"data row11 col7\" >0.0055</td>\n",
              "                        <td id=\"T_a0baa616_effc_11ea_8ff1_0242ac1c0002row11_col8\" class=\"data row11 col8\" >3.0986</td>\n",
              "            </tr>\n",
              "    </tbody></table>"
            ],
            "text/plain": [
              "<pandas.io.formats.style.Styler at 0x7f8d9ffe8048>"
            ]
          },
          "metadata": {
            "tags": []
          }
        },
        {
          "output_type": "execute_result",
          "data": {
            "text/plain": [
              "DecisionTreeClassifier(ccp_alpha=0.0, class_weight=None, criterion='gini',\n",
              "                       max_depth=None, max_features=None, max_leaf_nodes=None,\n",
              "                       min_impurity_decrease=0.0, min_impurity_split=None,\n",
              "                       min_samples_leaf=1, min_samples_split=2,\n",
              "                       min_weight_fraction_leaf=0.0, presort='deprecated',\n",
              "                       random_state=1234, splitter='best')"
            ]
          },
          "metadata": {
            "tags": []
          },
          "execution_count": 262
        }
      ]
    },
    {
      "cell_type": "markdown",
      "metadata": {
        "id": "9FsPDrxWYYQj",
        "colab_type": "text"
      },
      "source": [
        "# TESTANDO MODELOS"
      ]
    },
    {
      "cell_type": "code",
      "metadata": {
        "id": "kiC1d-jXXJfs",
        "colab_type": "code",
        "colab": {}
      },
      "source": [
        "from sklearn.neighbors import KNeighborsClassifier\n",
        "from sklearn.model_selection import train_test_split"
      ],
      "execution_count": null,
      "outputs": []
    },
    {
      "cell_type": "code",
      "metadata": {
        "id": "ynQPr0FWXwX7",
        "colab_type": "code",
        "colab": {}
      },
      "source": [
        "X_train, X_test, y_train, y_test = train_test_split(X,y, test_size = 0.2, random_state=42)"
      ],
      "execution_count": null,
      "outputs": []
    },
    {
      "cell_type": "code",
      "metadata": {
        "id": "5FAiNpmjamiD",
        "colab_type": "code",
        "colab": {}
      },
      "source": [
        "#balanceando os dados de treino\n",
        "from imblearn.over_sampling import SMOTE\n",
        "smote = SMOTE()\n",
        "X_trainb, y_trainb = smote.fit_resample(X_train, y_train)"
      ],
      "execution_count": null,
      "outputs": []
    },
    {
      "cell_type": "code",
      "metadata": {
        "id": "pa2gyYorXRDg",
        "colab_type": "code",
        "colab": {}
      },
      "source": [
        "#criando o modelo\n",
        "knn = KNeighborsClassifier()"
      ],
      "execution_count": null,
      "outputs": []
    },
    {
      "cell_type": "code",
      "metadata": {
        "id": "xq4nOkynYcrK",
        "colab_type": "code",
        "colab": {
          "base_uri": "https://localhost:8080/",
          "height": 68
        },
        "outputId": "a55ee8dc-4785-4a98-e7cb-8d2944451266"
      },
      "source": [
        "#ajustando o modelo aos dados de teste\n",
        "knn.fit(X_train, y_train)"
      ],
      "execution_count": null,
      "outputs": [
        {
          "output_type": "execute_result",
          "data": {
            "text/plain": [
              "KNeighborsClassifier(algorithm='auto', leaf_size=30, metric='minkowski',\n",
              "                     metric_params=None, n_jobs=None, n_neighbors=5, p=2,\n",
              "                     weights='uniform')"
            ]
          },
          "metadata": {
            "tags": []
          },
          "execution_count": 178
        }
      ]
    },
    {
      "cell_type": "code",
      "metadata": {
        "id": "BUZ3Chy5Yj47",
        "colab_type": "code",
        "colab": {}
      },
      "source": [
        "#fazendo a predição dos dados de teste\n",
        "y_knn = knn.predict(X_test)"
      ],
      "execution_count": null,
      "outputs": []
    },
    {
      "cell_type": "code",
      "metadata": {
        "id": "azyBkPgeYs-Y",
        "colab_type": "code",
        "colab": {}
      },
      "source": [
        "#importando as libs de métricas\n",
        "from sklearn.metrics import accuracy_score, classification_report, confusion_matrix"
      ],
      "execution_count": null,
      "outputs": []
    },
    {
      "cell_type": "code",
      "metadata": {
        "id": "kpbuVY9zY9-B",
        "colab_type": "code",
        "colab": {
          "base_uri": "https://localhost:8080/",
          "height": 34
        },
        "outputId": "56fed5e9-d988-48a1-f85e-2d220becf76c"
      },
      "source": [
        "accuracy_score(y_test, y_knn)"
      ],
      "execution_count": null,
      "outputs": [
        {
          "output_type": "execute_result",
          "data": {
            "text/plain": [
              "0.6501416430594901"
            ]
          },
          "metadata": {
            "tags": []
          },
          "execution_count": 181
        }
      ]
    },
    {
      "cell_type": "code",
      "metadata": {
        "id": "6dVzjYQ9ZGNT",
        "colab_type": "code",
        "colab": {
          "base_uri": "https://localhost:8080/",
          "height": 171
        },
        "outputId": "90957823-d254-420a-fad8-86a100cfe8d5"
      },
      "source": [
        "#relatório de classificação - não esquecer do print mágico\n",
        "print(classification_report(y_test, y_knn))"
      ],
      "execution_count": null,
      "outputs": [
        {
          "output_type": "stream",
          "text": [
            "              precision    recall  f1-score   support\n",
            "\n",
            "      NORMAL       0.67      0.88      0.76       453\n",
            " REABASTECER       0.53      0.23      0.32       253\n",
            "\n",
            "    accuracy                           0.65       706\n",
            "   macro avg       0.60      0.56      0.54       706\n",
            "weighted avg       0.62      0.65      0.61       706\n",
            "\n"
          ],
          "name": "stdout"
        }
      ]
    },
    {
      "cell_type": "code",
      "metadata": {
        "id": "yd87asvqb-2c",
        "colab_type": "code",
        "colab": {
          "base_uri": "https://localhost:8080/",
          "height": 51
        },
        "outputId": "63f2570a-1688-4f59-b7df-c7f1998dd128"
      },
      "source": [
        "print(confusion_matrix(y_test,y_knn))"
      ],
      "execution_count": null,
      "outputs": [
        {
          "output_type": "stream",
          "text": [
            "[[400  53]\n",
            " [194  59]]\n"
          ],
          "name": "stdout"
        }
      ]
    },
    {
      "cell_type": "code",
      "metadata": {
        "id": "JerLygbScv-8",
        "colab_type": "code",
        "colab": {}
      },
      "source": [
        "#usando o Linear SVC\n",
        "from sklearn.svm import LinearSVC\n",
        "lsvc = LinearSVC(class_weight='balanced', random_state=42)"
      ],
      "execution_count": null,
      "outputs": []
    },
    {
      "cell_type": "code",
      "metadata": {
        "id": "iPOxwphzdQz4",
        "colab_type": "code",
        "colab": {
          "base_uri": "https://localhost:8080/",
          "height": 86
        },
        "outputId": "43ec9746-4de6-46f0-f395-b0b2190c25a6"
      },
      "source": [
        "lsvc.fit(X_train, y_train)"
      ],
      "execution_count": null,
      "outputs": [
        {
          "output_type": "execute_result",
          "data": {
            "text/plain": [
              "LinearSVC(C=1.0, class_weight='balanced', dual=True, fit_intercept=True,\n",
              "          intercept_scaling=1, loss='squared_hinge', max_iter=1000,\n",
              "          multi_class='ovr', penalty='l2', random_state=42, tol=0.0001,\n",
              "          verbose=0)"
            ]
          },
          "metadata": {
            "tags": []
          },
          "execution_count": 185
        }
      ]
    },
    {
      "cell_type": "code",
      "metadata": {
        "id": "V1n83KFJddCl",
        "colab_type": "code",
        "colab": {}
      },
      "source": [
        "y_svc = lsvc.predict(X_test)"
      ],
      "execution_count": null,
      "outputs": []
    },
    {
      "cell_type": "code",
      "metadata": {
        "id": "FYk9YJSOdjZq",
        "colab_type": "code",
        "colab": {
          "base_uri": "https://localhost:8080/",
          "height": 34
        },
        "outputId": "3608eb4e-0be9-4813-b27a-e08dfc9e26d2"
      },
      "source": [
        "#medindo a acurácia\n",
        "accuracy_score(y_test, y_svc)"
      ],
      "execution_count": null,
      "outputs": [
        {
          "output_type": "execute_result",
          "data": {
            "text/plain": [
              "0.6430594900849859"
            ]
          },
          "metadata": {
            "tags": []
          },
          "execution_count": 187
        }
      ]
    },
    {
      "cell_type": "code",
      "metadata": {
        "id": "8HebA-jhdoj9",
        "colab_type": "code",
        "colab": {
          "base_uri": "https://localhost:8080/",
          "height": 206
        },
        "outputId": "c2552dba-b9bd-46f7-857d-0da524306d6d"
      },
      "source": [
        "#classification report\n",
        "print(classification_report(y_test, y_svc))\n",
        "print(confusion_matrix(y_test, y_svc))"
      ],
      "execution_count": null,
      "outputs": [
        {
          "output_type": "stream",
          "text": [
            "              precision    recall  f1-score   support\n",
            "\n",
            "      NORMAL       0.64      1.00      0.78       453\n",
            " REABASTECER       0.60      0.01      0.02       253\n",
            "\n",
            "    accuracy                           0.64       706\n",
            "   macro avg       0.62      0.50      0.40       706\n",
            "weighted avg       0.63      0.64      0.51       706\n",
            "\n",
            "[[451   2]\n",
            " [250   3]]\n"
          ],
          "name": "stdout"
        }
      ]
    },
    {
      "cell_type": "code",
      "metadata": {
        "id": "offA5LsZd0Dl",
        "colab_type": "code",
        "colab": {}
      },
      "source": [
        "#usando o RandomForestClassifier\n",
        "rf = RandomForestClassifier(bootstrap=True, criterion=\"entropy\", max_features=0.5, \n",
        "                            min_samples_leaf=19, min_samples_split=6, n_estimators=100, random_state=42)"
      ],
      "execution_count": null,
      "outputs": []
    },
    {
      "cell_type": "code",
      "metadata": {
        "id": "EHbAEPrKneop",
        "colab_type": "code",
        "colab": {
          "base_uri": "https://localhost:8080/",
          "height": 154
        },
        "outputId": "cabcf7b0-f170-451d-ec8a-801a621db97f"
      },
      "source": [
        "rf.fit(X_train, y_train)"
      ],
      "execution_count": null,
      "outputs": [
        {
          "output_type": "execute_result",
          "data": {
            "text/plain": [
              "RandomForestClassifier(bootstrap=True, ccp_alpha=0.0, class_weight=None,\n",
              "                       criterion='entropy', max_depth=None, max_features=0.5,\n",
              "                       max_leaf_nodes=None, max_samples=None,\n",
              "                       min_impurity_decrease=0.0, min_impurity_split=None,\n",
              "                       min_samples_leaf=19, min_samples_split=6,\n",
              "                       min_weight_fraction_leaf=0.0, n_estimators=100,\n",
              "                       n_jobs=None, oob_score=False, random_state=42, verbose=0,\n",
              "                       warm_start=False)"
            ]
          },
          "metadata": {
            "tags": []
          },
          "execution_count": 198
        }
      ]
    },
    {
      "cell_type": "code",
      "metadata": {
        "id": "kLvDNnKTnqXO",
        "colab_type": "code",
        "colab": {}
      },
      "source": [
        "y_rf = rf.predict(X_test)"
      ],
      "execution_count": null,
      "outputs": []
    },
    {
      "cell_type": "code",
      "metadata": {
        "id": "oHeGnLVunxE5",
        "colab_type": "code",
        "colab": {}
      },
      "source": [
        " def avalia(y_test, y_pred): \n",
        "  print(accuracy_score(y_test, y_pred))\n",
        "  print(classification_report(y_test, y_pred))\n",
        "  print(confusion_matrix(y_test, y_pred))"
      ],
      "execution_count": null,
      "outputs": []
    },
    {
      "cell_type": "code",
      "metadata": {
        "id": "RcWCpbimoMCZ",
        "colab_type": "code",
        "colab": {
          "base_uri": "https://localhost:8080/",
          "height": 223
        },
        "outputId": "cca73171-96b5-4227-8b4e-65d9d6998a8e"
      },
      "source": [
        "avalia(y_test,y_rf)"
      ],
      "execution_count": null,
      "outputs": [
        {
          "output_type": "stream",
          "text": [
            "0.7436260623229461\n",
            "              precision    recall  f1-score   support\n",
            "\n",
            "      NORMAL       0.84      0.74      0.79       453\n",
            " REABASTECER       0.62      0.75      0.68       253\n",
            "\n",
            "    accuracy                           0.74       706\n",
            "   macro avg       0.73      0.75      0.73       706\n",
            "weighted avg       0.76      0.74      0.75       706\n",
            "\n",
            "[[335 118]\n",
            " [ 63 190]]\n"
          ],
          "name": "stdout"
        }
      ]
    },
    {
      "cell_type": "code",
      "metadata": {
        "id": "vRi4ntCXwp-k",
        "colab_type": "code",
        "colab": {}
      },
      "source": [
        "from sklearn.tree import DecisionTreeClassifier\n",
        "dtc = DecisionTreeClassifier(ccp_alpha=0.0, class_weight=None, criterion='gini',\n",
        "                       max_depth=None, max_features=None, max_leaf_nodes=None,\n",
        "                       min_impurity_decrease=0.0, min_impurity_split=None,\n",
        "                       min_samples_leaf=1, min_samples_split=2,\n",
        "                       min_weight_fraction_leaf=0.0, presort='deprecated',\n",
        "                       random_state=1234, splitter='best')"
      ],
      "execution_count": null,
      "outputs": []
    },
    {
      "cell_type": "code",
      "metadata": {
        "id": "7K-HYcEqw2wC",
        "colab_type": "code",
        "colab": {
          "base_uri": "https://localhost:8080/",
          "height": 120
        },
        "outputId": "52cf7974-7d50-4877-a7f3-6f70685ff2ca"
      },
      "source": [
        "dtc.fit(X_train,y_train)"
      ],
      "execution_count": null,
      "outputs": [
        {
          "output_type": "execute_result",
          "data": {
            "text/plain": [
              "DecisionTreeClassifier(ccp_alpha=0.0, class_weight=None, criterion='gini',\n",
              "                       max_depth=None, max_features=None, max_leaf_nodes=None,\n",
              "                       min_impurity_decrease=0.0, min_impurity_split=None,\n",
              "                       min_samples_leaf=1, min_samples_split=2,\n",
              "                       min_weight_fraction_leaf=0.0, presort='deprecated',\n",
              "                       random_state=1234, splitter='best')"
            ]
          },
          "metadata": {
            "tags": []
          },
          "execution_count": 265
        }
      ]
    },
    {
      "cell_type": "code",
      "metadata": {
        "id": "_lylYpQBw7ez",
        "colab_type": "code",
        "colab": {}
      },
      "source": [
        "y_dtc = dtc.predict(X_test)"
      ],
      "execution_count": null,
      "outputs": []
    },
    {
      "cell_type": "code",
      "metadata": {
        "id": "o3cFI8EPxHI9",
        "colab_type": "code",
        "colab": {
          "base_uri": "https://localhost:8080/",
          "height": 223
        },
        "outputId": "aecb0f96-53cb-41f8-a811-7b0d8f6a7a7a"
      },
      "source": [
        "avalia(y_test,y_dtc)"
      ],
      "execution_count": null,
      "outputs": [
        {
          "output_type": "stream",
          "text": [
            "0.7521246458923513\n",
            "              precision    recall  f1-score   support\n",
            "\n",
            "           0       0.81      0.83      0.82       472\n",
            "           1       0.63      0.60      0.62       234\n",
            "\n",
            "    accuracy                           0.75       706\n",
            "   macro avg       0.72      0.71      0.72       706\n",
            "weighted avg       0.75      0.75      0.75       706\n",
            "\n",
            "[[390  82]\n",
            " [ 93 141]]\n"
          ],
          "name": "stdout"
        }
      ]
    },
    {
      "cell_type": "code",
      "metadata": {
        "id": "OxilyLZDZWzI",
        "colab_type": "code",
        "colab": {}
      },
      "source": [
        "#matriz de confusão\n",
        "import numpy as np\n",
        "import itertools\n",
        "\n",
        "#criando uma função para plotar\n",
        "def plot_confusion_matrix(cm, target_names, title='Confusion matrix', cmap=None, normalize=True):\n",
        "    accuracy = np.trace(cm) / float(np.sum(cm))\n",
        "    misclass = 1 - accuracy\n",
        "    if cmap is None:\n",
        "        cmap = plt.get_cmap('Blues')\n",
        "    plt.figure(figsize=(8, 6))\n",
        "    plt.imshow(cm, interpolation='nearest', cmap=cmap)\n",
        "    plt.title(title)\n",
        "    plt.colorbar()\n",
        "    if target_names is not None:\n",
        "        tick_marks = np.arange(len(target_names))\n",
        "        plt.xticks(tick_marks, target_names, rotation=45)\n",
        "        plt.yticks(tick_marks, target_names)\n",
        "    if normalize:\n",
        "        cm = cm.astype('float') / cm.sum(axis=1)[:, np.newaxis]\n",
        "    thresh = cm.max() / 1.5 if normalize else cm.max() / 2\n",
        "    for i, j in itertools.product(range(cm.shape[0]), range(cm.shape[1])):\n",
        "        if normalize:\n",
        "            plt.text(j, i, \"{:0.2f}\".format(cm[i, j]),\n",
        "                     horizontalalignment=\"center\",\n",
        "                     color=\"white\" if cm[i, j] > thresh else \"black\")\n",
        "        else:\n",
        "            plt.text(j, i, \"{:,}\".format(cm[i, j]),\n",
        "                     horizontalalignment=\"center\",\n",
        "                     color=\"white\" if cm[i, j] > thresh else \"black\")\n",
        "    plt.tight_layout()\n",
        "    plt.ylabel('True label')\n",
        "    plt.xlabel('Predicted label\\naccuracy={:0.4f}; misclass={:0.4f}'.format(accuracy, misclass))\n",
        "    plt.show()"
      ],
      "execution_count": null,
      "outputs": []
    },
    {
      "cell_type": "code",
      "metadata": {
        "id": "EaA--kvcZzB6",
        "colab_type": "code",
        "colab": {
          "base_uri": "https://localhost:8080/",
          "height": 642
        },
        "outputId": "789f5c06-9d91-4b54-f691-5310d926d564"
      },
      "source": [
        "from sklearn.metrics import confusion_matrix\n",
        "plot_confusion_matrix(confusion_matrix(y_test, y_dtc), ['NORMAL', 'REABASTECER'])"
      ],
      "execution_count": null,
      "outputs": [
        {
          "output_type": "display_data",
          "data": {
            "image/png": "[encoded data removed]",
            "text/plain": [
              "<Figure size 800x600 with 2 Axes>"
            ]
          },
          "metadata": {
            "tags": []
          }
        }
      ]
    }
  ]
}